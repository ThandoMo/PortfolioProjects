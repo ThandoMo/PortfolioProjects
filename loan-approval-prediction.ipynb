{
 "cells": [
  {
   "cell_type": "code",
   "execution_count": 1,
   "id": "e09d451c",
   "metadata": {
    "_cell_guid": "b1076dfc-b9ad-4769-8c92-a6c4dae69d19",
    "_uuid": "8f2839f25d086af736a60e9eeb907d3b93b6e0e5",
    "execution": {
     "iopub.execute_input": "2023-10-06T18:59:35.101458Z",
     "iopub.status.busy": "2023-10-06T18:59:35.100773Z",
     "iopub.status.idle": "2023-10-06T18:59:35.908108Z",
     "shell.execute_reply": "2023-10-06T18:59:35.907088Z"
    },
    "papermill": {
     "duration": 0.825495,
     "end_time": "2023-10-06T18:59:35.910790",
     "exception": false,
     "start_time": "2023-10-06T18:59:35.085295",
     "status": "completed"
    },
    "tags": []
   },
   "outputs": [
    {
     "name": "stdout",
     "output_type": "stream",
     "text": [
      "/kaggle/input/finance-loan-approval-prediction-data/train.csv\n",
      "/kaggle/input/finance-loan-approval-prediction-data/test.csv\n"
     ]
    }
   ],
   "source": [
    "# This Python 3 environment comes with many helpful analytics libraries installed\n",
    "# It is defined by the kaggle/python Docker image: https://github.com/kaggle/docker-python\n",
    "# For example, here's several helpful packages to load\n",
    "\n",
    "import numpy as np # linear algebra\n",
    "import pandas as pd # data processing, CSV file I/O (e.g. pd.read_csv)\n",
    "\n",
    "# Input data files are available in the read-only \"../input/\" directory\n",
    "# For example, running this (by clicking run or pressing Shift+Enter) will list all files under the input directory\n",
    "\n",
    "import os\n",
    "for dirname, _, filenames in os.walk('/kaggle/input'):\n",
    "    for filename in filenames:\n",
    "        print(os.path.join(dirname, filename))\n",
    "\n",
    "# You can write up to 20GB to the current directory (/kaggle/working/) that gets preserved as output when you create a version using \"Save & Run All\" \n",
    "# You can also write temporary files to /kaggle/temp/, but they won't be saved outside of the current session"
   ]
  },
  {
   "cell_type": "code",
   "execution_count": 2,
   "id": "a3def40e",
   "metadata": {
    "execution": {
     "iopub.execute_input": "2023-10-06T18:59:35.934834Z",
     "iopub.status.busy": "2023-10-06T18:59:35.934353Z",
     "iopub.status.idle": "2023-10-06T18:59:37.525608Z",
     "shell.execute_reply": "2023-10-06T18:59:37.524288Z"
    },
    "papermill": {
     "duration": 1.606233,
     "end_time": "2023-10-06T18:59:37.528119",
     "exception": false,
     "start_time": "2023-10-06T18:59:35.921886",
     "status": "completed"
    },
    "tags": []
   },
   "outputs": [],
   "source": [
    "import matplotlib.pyplot as plt\n",
    "import seaborn as sns"
   ]
  },
  {
   "cell_type": "markdown",
   "id": "3da56635",
   "metadata": {
    "execution": {
     "iopub.execute_input": "2023-10-06T16:32:37.237039Z",
     "iopub.status.busy": "2023-10-06T16:32:37.236604Z",
     "iopub.status.idle": "2023-10-06T16:32:37.242302Z",
     "shell.execute_reply": "2023-10-06T16:32:37.241129Z",
     "shell.execute_reply.started": "2023-10-06T16:32:37.237002Z"
    },
    "papermill": {
     "duration": 0.009961,
     "end_time": "2023-10-06T18:59:37.549717",
     "exception": false,
     "start_time": "2023-10-06T18:59:37.539756",
     "status": "completed"
    },
    "tags": []
   },
   "source": [
    "# Data loading"
   ]
  },
  {
   "cell_type": "code",
   "execution_count": 3,
   "id": "669b1d42",
   "metadata": {
    "execution": {
     "iopub.execute_input": "2023-10-06T18:59:37.572787Z",
     "iopub.status.busy": "2023-10-06T18:59:37.572383Z",
     "iopub.status.idle": "2023-10-06T18:59:37.624901Z",
     "shell.execute_reply": "2023-10-06T18:59:37.623776Z"
    },
    "papermill": {
     "duration": 0.067155,
     "end_time": "2023-10-06T18:59:37.627329",
     "exception": false,
     "start_time": "2023-10-06T18:59:37.560174",
     "status": "completed"
    },
    "tags": []
   },
   "outputs": [
    {
     "data": {
      "text/html": [
       "<div>\n",
       "<style scoped>\n",
       "    .dataframe tbody tr th:only-of-type {\n",
       "        vertical-align: middle;\n",
       "    }\n",
       "\n",
       "    .dataframe tbody tr th {\n",
       "        vertical-align: top;\n",
       "    }\n",
       "\n",
       "    .dataframe thead th {\n",
       "        text-align: right;\n",
       "    }\n",
       "</style>\n",
       "<table border=\"1\" class=\"dataframe\">\n",
       "  <thead>\n",
       "    <tr style=\"text-align: right;\">\n",
       "      <th></th>\n",
       "      <th>Loan_ID</th>\n",
       "      <th>Gender</th>\n",
       "      <th>Married</th>\n",
       "      <th>Dependents</th>\n",
       "      <th>Education</th>\n",
       "      <th>Self_Employed</th>\n",
       "      <th>ApplicantIncome</th>\n",
       "      <th>CoapplicantIncome</th>\n",
       "      <th>LoanAmount</th>\n",
       "      <th>Loan_Amount_Term</th>\n",
       "      <th>Credit_History</th>\n",
       "      <th>Property_Area</th>\n",
       "      <th>Loan_Status</th>\n",
       "    </tr>\n",
       "  </thead>\n",
       "  <tbody>\n",
       "    <tr>\n",
       "      <th>0</th>\n",
       "      <td>LP001002</td>\n",
       "      <td>Male</td>\n",
       "      <td>No</td>\n",
       "      <td>0</td>\n",
       "      <td>Graduate</td>\n",
       "      <td>No</td>\n",
       "      <td>5849</td>\n",
       "      <td>0.0</td>\n",
       "      <td>NaN</td>\n",
       "      <td>360.0</td>\n",
       "      <td>1.0</td>\n",
       "      <td>Urban</td>\n",
       "      <td>Y</td>\n",
       "    </tr>\n",
       "    <tr>\n",
       "      <th>1</th>\n",
       "      <td>LP001003</td>\n",
       "      <td>Male</td>\n",
       "      <td>Yes</td>\n",
       "      <td>1</td>\n",
       "      <td>Graduate</td>\n",
       "      <td>No</td>\n",
       "      <td>4583</td>\n",
       "      <td>1508.0</td>\n",
       "      <td>128.0</td>\n",
       "      <td>360.0</td>\n",
       "      <td>1.0</td>\n",
       "      <td>Rural</td>\n",
       "      <td>N</td>\n",
       "    </tr>\n",
       "    <tr>\n",
       "      <th>2</th>\n",
       "      <td>LP001005</td>\n",
       "      <td>Male</td>\n",
       "      <td>Yes</td>\n",
       "      <td>0</td>\n",
       "      <td>Graduate</td>\n",
       "      <td>Yes</td>\n",
       "      <td>3000</td>\n",
       "      <td>0.0</td>\n",
       "      <td>66.0</td>\n",
       "      <td>360.0</td>\n",
       "      <td>1.0</td>\n",
       "      <td>Urban</td>\n",
       "      <td>Y</td>\n",
       "    </tr>\n",
       "    <tr>\n",
       "      <th>3</th>\n",
       "      <td>LP001006</td>\n",
       "      <td>Male</td>\n",
       "      <td>Yes</td>\n",
       "      <td>0</td>\n",
       "      <td>Not Graduate</td>\n",
       "      <td>No</td>\n",
       "      <td>2583</td>\n",
       "      <td>2358.0</td>\n",
       "      <td>120.0</td>\n",
       "      <td>360.0</td>\n",
       "      <td>1.0</td>\n",
       "      <td>Urban</td>\n",
       "      <td>Y</td>\n",
       "    </tr>\n",
       "    <tr>\n",
       "      <th>4</th>\n",
       "      <td>LP001008</td>\n",
       "      <td>Male</td>\n",
       "      <td>No</td>\n",
       "      <td>0</td>\n",
       "      <td>Graduate</td>\n",
       "      <td>No</td>\n",
       "      <td>6000</td>\n",
       "      <td>0.0</td>\n",
       "      <td>141.0</td>\n",
       "      <td>360.0</td>\n",
       "      <td>1.0</td>\n",
       "      <td>Urban</td>\n",
       "      <td>Y</td>\n",
       "    </tr>\n",
       "    <tr>\n",
       "      <th>...</th>\n",
       "      <td>...</td>\n",
       "      <td>...</td>\n",
       "      <td>...</td>\n",
       "      <td>...</td>\n",
       "      <td>...</td>\n",
       "      <td>...</td>\n",
       "      <td>...</td>\n",
       "      <td>...</td>\n",
       "      <td>...</td>\n",
       "      <td>...</td>\n",
       "      <td>...</td>\n",
       "      <td>...</td>\n",
       "      <td>...</td>\n",
       "    </tr>\n",
       "    <tr>\n",
       "      <th>609</th>\n",
       "      <td>LP002978</td>\n",
       "      <td>Female</td>\n",
       "      <td>No</td>\n",
       "      <td>0</td>\n",
       "      <td>Graduate</td>\n",
       "      <td>No</td>\n",
       "      <td>2900</td>\n",
       "      <td>0.0</td>\n",
       "      <td>71.0</td>\n",
       "      <td>360.0</td>\n",
       "      <td>1.0</td>\n",
       "      <td>Rural</td>\n",
       "      <td>Y</td>\n",
       "    </tr>\n",
       "    <tr>\n",
       "      <th>610</th>\n",
       "      <td>LP002979</td>\n",
       "      <td>Male</td>\n",
       "      <td>Yes</td>\n",
       "      <td>3+</td>\n",
       "      <td>Graduate</td>\n",
       "      <td>No</td>\n",
       "      <td>4106</td>\n",
       "      <td>0.0</td>\n",
       "      <td>40.0</td>\n",
       "      <td>180.0</td>\n",
       "      <td>1.0</td>\n",
       "      <td>Rural</td>\n",
       "      <td>Y</td>\n",
       "    </tr>\n",
       "    <tr>\n",
       "      <th>611</th>\n",
       "      <td>LP002983</td>\n",
       "      <td>Male</td>\n",
       "      <td>Yes</td>\n",
       "      <td>1</td>\n",
       "      <td>Graduate</td>\n",
       "      <td>No</td>\n",
       "      <td>8072</td>\n",
       "      <td>240.0</td>\n",
       "      <td>253.0</td>\n",
       "      <td>360.0</td>\n",
       "      <td>1.0</td>\n",
       "      <td>Urban</td>\n",
       "      <td>Y</td>\n",
       "    </tr>\n",
       "    <tr>\n",
       "      <th>612</th>\n",
       "      <td>LP002984</td>\n",
       "      <td>Male</td>\n",
       "      <td>Yes</td>\n",
       "      <td>2</td>\n",
       "      <td>Graduate</td>\n",
       "      <td>No</td>\n",
       "      <td>7583</td>\n",
       "      <td>0.0</td>\n",
       "      <td>187.0</td>\n",
       "      <td>360.0</td>\n",
       "      <td>1.0</td>\n",
       "      <td>Urban</td>\n",
       "      <td>Y</td>\n",
       "    </tr>\n",
       "    <tr>\n",
       "      <th>613</th>\n",
       "      <td>LP002990</td>\n",
       "      <td>Female</td>\n",
       "      <td>No</td>\n",
       "      <td>0</td>\n",
       "      <td>Graduate</td>\n",
       "      <td>Yes</td>\n",
       "      <td>4583</td>\n",
       "      <td>0.0</td>\n",
       "      <td>133.0</td>\n",
       "      <td>360.0</td>\n",
       "      <td>0.0</td>\n",
       "      <td>Semiurban</td>\n",
       "      <td>N</td>\n",
       "    </tr>\n",
       "  </tbody>\n",
       "</table>\n",
       "<p>614 rows × 13 columns</p>\n",
       "</div>"
      ],
      "text/plain": [
       "      Loan_ID  Gender Married Dependents     Education Self_Employed  \\\n",
       "0    LP001002    Male      No          0      Graduate            No   \n",
       "1    LP001003    Male     Yes          1      Graduate            No   \n",
       "2    LP001005    Male     Yes          0      Graduate           Yes   \n",
       "3    LP001006    Male     Yes          0  Not Graduate            No   \n",
       "4    LP001008    Male      No          0      Graduate            No   \n",
       "..        ...     ...     ...        ...           ...           ...   \n",
       "609  LP002978  Female      No          0      Graduate            No   \n",
       "610  LP002979    Male     Yes         3+      Graduate            No   \n",
       "611  LP002983    Male     Yes          1      Graduate            No   \n",
       "612  LP002984    Male     Yes          2      Graduate            No   \n",
       "613  LP002990  Female      No          0      Graduate           Yes   \n",
       "\n",
       "     ApplicantIncome  CoapplicantIncome  LoanAmount  Loan_Amount_Term  \\\n",
       "0               5849                0.0         NaN             360.0   \n",
       "1               4583             1508.0       128.0             360.0   \n",
       "2               3000                0.0        66.0             360.0   \n",
       "3               2583             2358.0       120.0             360.0   \n",
       "4               6000                0.0       141.0             360.0   \n",
       "..               ...                ...         ...               ...   \n",
       "609             2900                0.0        71.0             360.0   \n",
       "610             4106                0.0        40.0             180.0   \n",
       "611             8072              240.0       253.0             360.0   \n",
       "612             7583                0.0       187.0             360.0   \n",
       "613             4583                0.0       133.0             360.0   \n",
       "\n",
       "     Credit_History Property_Area Loan_Status  \n",
       "0               1.0         Urban           Y  \n",
       "1               1.0         Rural           N  \n",
       "2               1.0         Urban           Y  \n",
       "3               1.0         Urban           Y  \n",
       "4               1.0         Urban           Y  \n",
       "..              ...           ...         ...  \n",
       "609             1.0         Rural           Y  \n",
       "610             1.0         Rural           Y  \n",
       "611             1.0         Urban           Y  \n",
       "612             1.0         Urban           Y  \n",
       "613             0.0     Semiurban           N  \n",
       "\n",
       "[614 rows x 13 columns]"
      ]
     },
     "execution_count": 3,
     "metadata": {},
     "output_type": "execute_result"
    }
   ],
   "source": [
    "#load data\n",
    "df = pd.read_csv('/kaggle/input/finance-loan-approval-prediction-data/train.csv')\n",
    "\n",
    "# display data\n",
    "df"
   ]
  },
  {
   "cell_type": "markdown",
   "id": "063a15d7",
   "metadata": {
    "execution": {
     "iopub.execute_input": "2023-10-06T16:32:12.682115Z",
     "iopub.status.busy": "2023-10-06T16:32:12.681703Z",
     "iopub.status.idle": "2023-10-06T16:32:12.687443Z",
     "shell.execute_reply": "2023-10-06T16:32:12.686169Z",
     "shell.execute_reply.started": "2023-10-06T16:32:12.682085Z"
    },
    "papermill": {
     "duration": 0.010198,
     "end_time": "2023-10-06T18:59:37.651060",
     "exception": false,
     "start_time": "2023-10-06T18:59:37.640862",
     "status": "completed"
    },
    "tags": []
   },
   "source": [
    "# Data Profiling"
   ]
  },
  {
   "cell_type": "code",
   "execution_count": 4,
   "id": "318f6974",
   "metadata": {
    "execution": {
     "iopub.execute_input": "2023-10-06T18:59:37.674495Z",
     "iopub.status.busy": "2023-10-06T18:59:37.674092Z",
     "iopub.status.idle": "2023-10-06T18:59:37.700854Z",
     "shell.execute_reply": "2023-10-06T18:59:37.699028Z"
    },
    "papermill": {
     "duration": 0.041242,
     "end_time": "2023-10-06T18:59:37.703140",
     "exception": false,
     "start_time": "2023-10-06T18:59:37.661898",
     "status": "completed"
    },
    "tags": []
   },
   "outputs": [
    {
     "name": "stdout",
     "output_type": "stream",
     "text": [
      "<class 'pandas.core.frame.DataFrame'>\n",
      "RangeIndex: 614 entries, 0 to 613\n",
      "Data columns (total 13 columns):\n",
      " #   Column             Non-Null Count  Dtype  \n",
      "---  ------             --------------  -----  \n",
      " 0   Loan_ID            614 non-null    object \n",
      " 1   Gender             601 non-null    object \n",
      " 2   Married            611 non-null    object \n",
      " 3   Dependents         599 non-null    object \n",
      " 4   Education          614 non-null    object \n",
      " 5   Self_Employed      582 non-null    object \n",
      " 6   ApplicantIncome    614 non-null    int64  \n",
      " 7   CoapplicantIncome  614 non-null    float64\n",
      " 8   LoanAmount         592 non-null    float64\n",
      " 9   Loan_Amount_Term   600 non-null    float64\n",
      " 10  Credit_History     564 non-null    float64\n",
      " 11  Property_Area      614 non-null    object \n",
      " 12  Loan_Status        614 non-null    object \n",
      "dtypes: float64(4), int64(1), object(8)\n",
      "memory usage: 62.5+ KB\n"
     ]
    }
   ],
   "source": [
    "df.info()"
   ]
  },
  {
   "cell_type": "code",
   "execution_count": 5,
   "id": "ac3460cd",
   "metadata": {
    "execution": {
     "iopub.execute_input": "2023-10-06T18:59:37.727413Z",
     "iopub.status.busy": "2023-10-06T18:59:37.727001Z",
     "iopub.status.idle": "2023-10-06T18:59:37.739464Z",
     "shell.execute_reply": "2023-10-06T18:59:37.738502Z"
    },
    "papermill": {
     "duration": 0.026936,
     "end_time": "2023-10-06T18:59:37.741682",
     "exception": false,
     "start_time": "2023-10-06T18:59:37.714746",
     "status": "completed"
    },
    "tags": []
   },
   "outputs": [
    {
     "data": {
      "text/plain": [
       "Loan_ID              614\n",
       "Gender                 2\n",
       "Married                2\n",
       "Dependents             4\n",
       "Education              2\n",
       "Self_Employed          2\n",
       "ApplicantIncome      505\n",
       "CoapplicantIncome    287\n",
       "LoanAmount           203\n",
       "Loan_Amount_Term      10\n",
       "Credit_History         2\n",
       "Property_Area          3\n",
       "Loan_Status            2\n",
       "dtype: int64"
      ]
     },
     "execution_count": 5,
     "metadata": {},
     "output_type": "execute_result"
    }
   ],
   "source": [
    "df.nunique()"
   ]
  },
  {
   "cell_type": "code",
   "execution_count": 6,
   "id": "0e572dff",
   "metadata": {
    "execution": {
     "iopub.execute_input": "2023-10-06T18:59:37.766136Z",
     "iopub.status.busy": "2023-10-06T18:59:37.765381Z",
     "iopub.status.idle": "2023-10-06T18:59:37.773582Z",
     "shell.execute_reply": "2023-10-06T18:59:37.772581Z"
    },
    "papermill": {
     "duration": 0.022781,
     "end_time": "2023-10-06T18:59:37.775527",
     "exception": false,
     "start_time": "2023-10-06T18:59:37.752746",
     "status": "completed"
    },
    "tags": []
   },
   "outputs": [
    {
     "data": {
      "text/plain": [
       "Loan_ID               0\n",
       "Gender               13\n",
       "Married               3\n",
       "Dependents           15\n",
       "Education             0\n",
       "Self_Employed        32\n",
       "ApplicantIncome       0\n",
       "CoapplicantIncome     0\n",
       "LoanAmount           22\n",
       "Loan_Amount_Term     14\n",
       "Credit_History       50\n",
       "Property_Area         0\n",
       "Loan_Status           0\n",
       "dtype: int64"
      ]
     },
     "execution_count": 6,
     "metadata": {},
     "output_type": "execute_result"
    }
   ],
   "source": [
    "#checking if there is missing rows\n",
    "df.isna().sum()"
   ]
  },
  {
   "cell_type": "code",
   "execution_count": 7,
   "id": "77a5a2d9",
   "metadata": {
    "execution": {
     "iopub.execute_input": "2023-10-06T18:59:37.799888Z",
     "iopub.status.busy": "2023-10-06T18:59:37.798873Z",
     "iopub.status.idle": "2023-10-06T18:59:37.824804Z",
     "shell.execute_reply": "2023-10-06T18:59:37.823729Z"
    },
    "papermill": {
     "duration": 0.040319,
     "end_time": "2023-10-06T18:59:37.826914",
     "exception": false,
     "start_time": "2023-10-06T18:59:37.786595",
     "status": "completed"
    },
    "tags": []
   },
   "outputs": [
    {
     "data": {
      "text/html": [
       "<div>\n",
       "<style scoped>\n",
       "    .dataframe tbody tr th:only-of-type {\n",
       "        vertical-align: middle;\n",
       "    }\n",
       "\n",
       "    .dataframe tbody tr th {\n",
       "        vertical-align: top;\n",
       "    }\n",
       "\n",
       "    .dataframe thead th {\n",
       "        text-align: right;\n",
       "    }\n",
       "</style>\n",
       "<table border=\"1\" class=\"dataframe\">\n",
       "  <thead>\n",
       "    <tr style=\"text-align: right;\">\n",
       "      <th></th>\n",
       "      <th>ApplicantIncome</th>\n",
       "      <th>CoapplicantIncome</th>\n",
       "      <th>LoanAmount</th>\n",
       "      <th>Loan_Amount_Term</th>\n",
       "      <th>Credit_History</th>\n",
       "    </tr>\n",
       "  </thead>\n",
       "  <tbody>\n",
       "    <tr>\n",
       "      <th>count</th>\n",
       "      <td>614.000000</td>\n",
       "      <td>614.000000</td>\n",
       "      <td>592.000000</td>\n",
       "      <td>600.00000</td>\n",
       "      <td>564.000000</td>\n",
       "    </tr>\n",
       "    <tr>\n",
       "      <th>mean</th>\n",
       "      <td>5403.459283</td>\n",
       "      <td>1621.245798</td>\n",
       "      <td>146.412162</td>\n",
       "      <td>342.00000</td>\n",
       "      <td>0.842199</td>\n",
       "    </tr>\n",
       "    <tr>\n",
       "      <th>std</th>\n",
       "      <td>6109.041673</td>\n",
       "      <td>2926.248369</td>\n",
       "      <td>85.587325</td>\n",
       "      <td>65.12041</td>\n",
       "      <td>0.364878</td>\n",
       "    </tr>\n",
       "    <tr>\n",
       "      <th>min</th>\n",
       "      <td>150.000000</td>\n",
       "      <td>0.000000</td>\n",
       "      <td>9.000000</td>\n",
       "      <td>12.00000</td>\n",
       "      <td>0.000000</td>\n",
       "    </tr>\n",
       "    <tr>\n",
       "      <th>25%</th>\n",
       "      <td>2877.500000</td>\n",
       "      <td>0.000000</td>\n",
       "      <td>100.000000</td>\n",
       "      <td>360.00000</td>\n",
       "      <td>1.000000</td>\n",
       "    </tr>\n",
       "    <tr>\n",
       "      <th>50%</th>\n",
       "      <td>3812.500000</td>\n",
       "      <td>1188.500000</td>\n",
       "      <td>128.000000</td>\n",
       "      <td>360.00000</td>\n",
       "      <td>1.000000</td>\n",
       "    </tr>\n",
       "    <tr>\n",
       "      <th>75%</th>\n",
       "      <td>5795.000000</td>\n",
       "      <td>2297.250000</td>\n",
       "      <td>168.000000</td>\n",
       "      <td>360.00000</td>\n",
       "      <td>1.000000</td>\n",
       "    </tr>\n",
       "    <tr>\n",
       "      <th>max</th>\n",
       "      <td>81000.000000</td>\n",
       "      <td>41667.000000</td>\n",
       "      <td>700.000000</td>\n",
       "      <td>480.00000</td>\n",
       "      <td>1.000000</td>\n",
       "    </tr>\n",
       "  </tbody>\n",
       "</table>\n",
       "</div>"
      ],
      "text/plain": [
       "       ApplicantIncome  CoapplicantIncome  LoanAmount  Loan_Amount_Term  \\\n",
       "count       614.000000         614.000000  592.000000         600.00000   \n",
       "mean       5403.459283        1621.245798  146.412162         342.00000   \n",
       "std        6109.041673        2926.248369   85.587325          65.12041   \n",
       "min         150.000000           0.000000    9.000000          12.00000   \n",
       "25%        2877.500000           0.000000  100.000000         360.00000   \n",
       "50%        3812.500000        1188.500000  128.000000         360.00000   \n",
       "75%        5795.000000        2297.250000  168.000000         360.00000   \n",
       "max       81000.000000       41667.000000  700.000000         480.00000   \n",
       "\n",
       "       Credit_History  \n",
       "count      564.000000  \n",
       "mean         0.842199  \n",
       "std          0.364878  \n",
       "min          0.000000  \n",
       "25%          1.000000  \n",
       "50%          1.000000  \n",
       "75%          1.000000  \n",
       "max          1.000000  "
      ]
     },
     "execution_count": 7,
     "metadata": {},
     "output_type": "execute_result"
    }
   ],
   "source": [
    "df.describe()"
   ]
  },
  {
   "cell_type": "code",
   "execution_count": 8,
   "id": "d13db4bb",
   "metadata": {
    "execution": {
     "iopub.execute_input": "2023-10-06T18:59:37.851940Z",
     "iopub.status.busy": "2023-10-06T18:59:37.850996Z",
     "iopub.status.idle": "2023-10-06T18:59:37.862337Z",
     "shell.execute_reply": "2023-10-06T18:59:37.861395Z"
    },
    "papermill": {
     "duration": 0.025988,
     "end_time": "2023-10-06T18:59:37.864225",
     "exception": false,
     "start_time": "2023-10-06T18:59:37.838237",
     "status": "completed"
    },
    "tags": []
   },
   "outputs": [
    {
     "data": {
      "text/plain": [
       "0"
      ]
     },
     "execution_count": 8,
     "metadata": {},
     "output_type": "execute_result"
    }
   ],
   "source": [
    "#check total duplicated rows\n",
    "df.duplicated().sum()"
   ]
  },
  {
   "cell_type": "markdown",
   "id": "78c3ed60",
   "metadata": {
    "execution": {
     "iopub.execute_input": "2023-10-06T17:07:55.625642Z",
     "iopub.status.busy": "2023-10-06T17:07:55.625174Z",
     "iopub.status.idle": "2023-10-06T17:07:55.630869Z",
     "shell.execute_reply": "2023-10-06T17:07:55.629676Z",
     "shell.execute_reply.started": "2023-10-06T17:07:55.625606Z"
    },
    "papermill": {
     "duration": 0.010673,
     "end_time": "2023-10-06T18:59:37.886077",
     "exception": false,
     "start_time": "2023-10-06T18:59:37.875404",
     "status": "completed"
    },
    "tags": []
   },
   "source": [
    "# Data Cleaning"
   ]
  },
  {
   "cell_type": "code",
   "execution_count": 9,
   "id": "568743fb",
   "metadata": {
    "execution": {
     "iopub.execute_input": "2023-10-06T18:59:37.980058Z",
     "iopub.status.busy": "2023-10-06T18:59:37.979665Z",
     "iopub.status.idle": "2023-10-06T18:59:37.990032Z",
     "shell.execute_reply": "2023-10-06T18:59:37.988361Z"
    },
    "papermill": {
     "duration": 0.094918,
     "end_time": "2023-10-06T18:59:37.992513",
     "exception": false,
     "start_time": "2023-10-06T18:59:37.897595",
     "status": "completed"
    },
    "tags": []
   },
   "outputs": [
    {
     "data": {
      "text/plain": [
       "Loan_ID               0\n",
       "Gender               13\n",
       "Married               3\n",
       "Dependents           15\n",
       "Education             0\n",
       "Self_Employed        32\n",
       "ApplicantIncome       0\n",
       "CoapplicantIncome     0\n",
       "LoanAmount           22\n",
       "Loan_Amount_Term     14\n",
       "Credit_History       50\n",
       "Property_Area         0\n",
       "Loan_Status           0\n",
       "dtype: int64"
      ]
     },
     "execution_count": 9,
     "metadata": {},
     "output_type": "execute_result"
    }
   ],
   "source": [
    "df.isna().sum()"
   ]
  },
  {
   "cell_type": "code",
   "execution_count": 10,
   "id": "23ce3dd7",
   "metadata": {
    "execution": {
     "iopub.execute_input": "2023-10-06T18:59:38.020768Z",
     "iopub.status.busy": "2023-10-06T18:59:38.019316Z",
     "iopub.status.idle": "2023-10-06T18:59:38.029055Z",
     "shell.execute_reply": "2023-10-06T18:59:38.027834Z"
    },
    "papermill": {
     "duration": 0.026571,
     "end_time": "2023-10-06T18:59:38.031365",
     "exception": false,
     "start_time": "2023-10-06T18:59:38.004794",
     "status": "completed"
    },
    "tags": []
   },
   "outputs": [
    {
     "data": {
      "text/plain": [
       "Gender\n",
       "Male      489\n",
       "Female    112\n",
       "Name: count, dtype: int64"
      ]
     },
     "execution_count": 10,
     "metadata": {},
     "output_type": "execute_result"
    }
   ],
   "source": [
    "df.Gender.value_counts()"
   ]
  },
  {
   "cell_type": "code",
   "execution_count": 11,
   "id": "46ead82f",
   "metadata": {
    "execution": {
     "iopub.execute_input": "2023-10-06T18:59:38.058687Z",
     "iopub.status.busy": "2023-10-06T18:59:38.057915Z",
     "iopub.status.idle": "2023-10-06T18:59:38.064404Z",
     "shell.execute_reply": "2023-10-06T18:59:38.063324Z"
    },
    "papermill": {
     "duration": 0.022175,
     "end_time": "2023-10-06T18:59:38.066528",
     "exception": false,
     "start_time": "2023-10-06T18:59:38.044353",
     "status": "completed"
    },
    "tags": []
   },
   "outputs": [],
   "source": [
    "df['Gender'].fillna('Female',inplace=True)"
   ]
  },
  {
   "cell_type": "code",
   "execution_count": 12,
   "id": "991e98ee",
   "metadata": {
    "execution": {
     "iopub.execute_input": "2023-10-06T18:59:38.094910Z",
     "iopub.status.busy": "2023-10-06T18:59:38.094224Z",
     "iopub.status.idle": "2023-10-06T18:59:38.105286Z",
     "shell.execute_reply": "2023-10-06T18:59:38.103714Z"
    },
    "papermill": {
     "duration": 0.027691,
     "end_time": "2023-10-06T18:59:38.107636",
     "exception": false,
     "start_time": "2023-10-06T18:59:38.079945",
     "status": "completed"
    },
    "tags": []
   },
   "outputs": [
    {
     "data": {
      "text/plain": [
       "Married\n",
       "Yes    398\n",
       "No     213\n",
       "Name: count, dtype: int64"
      ]
     },
     "execution_count": 12,
     "metadata": {},
     "output_type": "execute_result"
    }
   ],
   "source": [
    "df.Married.value_counts()"
   ]
  },
  {
   "cell_type": "code",
   "execution_count": 13,
   "id": "cd8b8e95",
   "metadata": {
    "execution": {
     "iopub.execute_input": "2023-10-06T18:59:38.135610Z",
     "iopub.status.busy": "2023-10-06T18:59:38.134581Z",
     "iopub.status.idle": "2023-10-06T18:59:38.141171Z",
     "shell.execute_reply": "2023-10-06T18:59:38.139767Z"
    },
    "papermill": {
     "duration": 0.023293,
     "end_time": "2023-10-06T18:59:38.143826",
     "exception": false,
     "start_time": "2023-10-06T18:59:38.120533",
     "status": "completed"
    },
    "tags": []
   },
   "outputs": [],
   "source": [
    "df['Married'].fillna('No',inplace=True)"
   ]
  },
  {
   "cell_type": "code",
   "execution_count": 14,
   "id": "d7d4f6b7",
   "metadata": {
    "execution": {
     "iopub.execute_input": "2023-10-06T18:59:38.170473Z",
     "iopub.status.busy": "2023-10-06T18:59:38.169351Z",
     "iopub.status.idle": "2023-10-06T18:59:38.178711Z",
     "shell.execute_reply": "2023-10-06T18:59:38.177549Z"
    },
    "papermill": {
     "duration": 0.025382,
     "end_time": "2023-10-06T18:59:38.181191",
     "exception": false,
     "start_time": "2023-10-06T18:59:38.155809",
     "status": "completed"
    },
    "tags": []
   },
   "outputs": [],
   "source": [
    "df['Dependents'].fillna(df['Dependents'].mode(),inplace=True)"
   ]
  },
  {
   "cell_type": "code",
   "execution_count": 15,
   "id": "d48d59c4",
   "metadata": {
    "execution": {
     "iopub.execute_input": "2023-10-06T18:59:38.206083Z",
     "iopub.status.busy": "2023-10-06T18:59:38.205721Z",
     "iopub.status.idle": "2023-10-06T18:59:38.213783Z",
     "shell.execute_reply": "2023-10-06T18:59:38.212656Z"
    },
    "papermill": {
     "duration": 0.022908,
     "end_time": "2023-10-06T18:59:38.215823",
     "exception": false,
     "start_time": "2023-10-06T18:59:38.192915",
     "status": "completed"
    },
    "tags": []
   },
   "outputs": [
    {
     "data": {
      "text/plain": [
       "Self_Employed\n",
       "No     500\n",
       "Yes     82\n",
       "Name: count, dtype: int64"
      ]
     },
     "execution_count": 15,
     "metadata": {},
     "output_type": "execute_result"
    }
   ],
   "source": [
    "df.Self_Employed.value_counts()"
   ]
  },
  {
   "cell_type": "code",
   "execution_count": 16,
   "id": "4eb1ca52",
   "metadata": {
    "execution": {
     "iopub.execute_input": "2023-10-06T18:59:38.241807Z",
     "iopub.status.busy": "2023-10-06T18:59:38.241143Z",
     "iopub.status.idle": "2023-10-06T18:59:38.245752Z",
     "shell.execute_reply": "2023-10-06T18:59:38.245060Z"
    },
    "papermill": {
     "duration": 0.020018,
     "end_time": "2023-10-06T18:59:38.247805",
     "exception": false,
     "start_time": "2023-10-06T18:59:38.227787",
     "status": "completed"
    },
    "tags": []
   },
   "outputs": [],
   "source": [
    "df['Self_Employed'].fillna('Yes',inplace=True)"
   ]
  },
  {
   "cell_type": "code",
   "execution_count": 17,
   "id": "596286a1",
   "metadata": {
    "execution": {
     "iopub.execute_input": "2023-10-06T18:59:38.273335Z",
     "iopub.status.busy": "2023-10-06T18:59:38.272687Z",
     "iopub.status.idle": "2023-10-06T18:59:38.279104Z",
     "shell.execute_reply": "2023-10-06T18:59:38.277977Z"
    },
    "papermill": {
     "duration": 0.021929,
     "end_time": "2023-10-06T18:59:38.281463",
     "exception": false,
     "start_time": "2023-10-06T18:59:38.259534",
     "status": "completed"
    },
    "tags": []
   },
   "outputs": [],
   "source": [
    "df['LoanAmount'].fillna(df['LoanAmount'].median(),inplace=True)\n",
    "df['Loan_Amount_Term'].fillna(df['Loan_Amount_Term'].median(),inplace=True)"
   ]
  },
  {
   "cell_type": "code",
   "execution_count": 18,
   "id": "6c3e94a8",
   "metadata": {
    "execution": {
     "iopub.execute_input": "2023-10-06T18:59:38.306709Z",
     "iopub.status.busy": "2023-10-06T18:59:38.306323Z",
     "iopub.status.idle": "2023-10-06T18:59:38.314979Z",
     "shell.execute_reply": "2023-10-06T18:59:38.314027Z"
    },
    "papermill": {
     "duration": 0.023675,
     "end_time": "2023-10-06T18:59:38.316957",
     "exception": false,
     "start_time": "2023-10-06T18:59:38.293282",
     "status": "completed"
    },
    "tags": []
   },
   "outputs": [
    {
     "data": {
      "text/plain": [
       "Credit_History\n",
       "1.0    475\n",
       "0.0     89\n",
       "Name: count, dtype: int64"
      ]
     },
     "execution_count": 18,
     "metadata": {},
     "output_type": "execute_result"
    }
   ],
   "source": [
    "df.Credit_History.value_counts()"
   ]
  },
  {
   "cell_type": "code",
   "execution_count": 19,
   "id": "c288ee3d",
   "metadata": {
    "execution": {
     "iopub.execute_input": "2023-10-06T18:59:38.342430Z",
     "iopub.status.busy": "2023-10-06T18:59:38.342037Z",
     "iopub.status.idle": "2023-10-06T18:59:38.348221Z",
     "shell.execute_reply": "2023-10-06T18:59:38.347242Z"
    },
    "papermill": {
     "duration": 0.021404,
     "end_time": "2023-10-06T18:59:38.350275",
     "exception": false,
     "start_time": "2023-10-06T18:59:38.328871",
     "status": "completed"
    },
    "tags": []
   },
   "outputs": [],
   "source": [
    "df['Credit_History'].fillna(df['Credit_History'].median(),inplace=True)"
   ]
  },
  {
   "cell_type": "code",
   "execution_count": 20,
   "id": "d6783be5",
   "metadata": {
    "execution": {
     "iopub.execute_input": "2023-10-06T18:59:38.375655Z",
     "iopub.status.busy": "2023-10-06T18:59:38.375303Z",
     "iopub.status.idle": "2023-10-06T18:59:38.380842Z",
     "shell.execute_reply": "2023-10-06T18:59:38.379757Z"
    },
    "papermill": {
     "duration": 0.020616,
     "end_time": "2023-10-06T18:59:38.382985",
     "exception": false,
     "start_time": "2023-10-06T18:59:38.362369",
     "status": "completed"
    },
    "tags": []
   },
   "outputs": [],
   "source": [
    "df['Dependents'].fillna('0',inplace=True)"
   ]
  },
  {
   "cell_type": "code",
   "execution_count": 21,
   "id": "ff6f04cf",
   "metadata": {
    "execution": {
     "iopub.execute_input": "2023-10-06T18:59:38.409035Z",
     "iopub.status.busy": "2023-10-06T18:59:38.407937Z",
     "iopub.status.idle": "2023-10-06T18:59:38.416978Z",
     "shell.execute_reply": "2023-10-06T18:59:38.415736Z"
    },
    "papermill": {
     "duration": 0.024116,
     "end_time": "2023-10-06T18:59:38.419221",
     "exception": false,
     "start_time": "2023-10-06T18:59:38.395105",
     "status": "completed"
    },
    "tags": []
   },
   "outputs": [
    {
     "data": {
      "text/plain": [
       "Loan_ID              0\n",
       "Gender               0\n",
       "Married              0\n",
       "Dependents           0\n",
       "Education            0\n",
       "Self_Employed        0\n",
       "ApplicantIncome      0\n",
       "CoapplicantIncome    0\n",
       "LoanAmount           0\n",
       "Loan_Amount_Term     0\n",
       "Credit_History       0\n",
       "Property_Area        0\n",
       "Loan_Status          0\n",
       "dtype: int64"
      ]
     },
     "execution_count": 21,
     "metadata": {},
     "output_type": "execute_result"
    }
   ],
   "source": [
    "df.isna().sum()"
   ]
  },
  {
   "cell_type": "code",
   "execution_count": 22,
   "id": "4fae9a85",
   "metadata": {
    "execution": {
     "iopub.execute_input": "2023-10-06T18:59:38.444930Z",
     "iopub.status.busy": "2023-10-06T18:59:38.444586Z",
     "iopub.status.idle": "2023-10-06T18:59:38.452018Z",
     "shell.execute_reply": "2023-10-06T18:59:38.451007Z"
    },
    "papermill": {
     "duration": 0.022915,
     "end_time": "2023-10-06T18:59:38.454245",
     "exception": false,
     "start_time": "2023-10-06T18:59:38.431330",
     "status": "completed"
    },
    "tags": []
   },
   "outputs": [
    {
     "data": {
      "text/plain": [
       "Loan_ID               object\n",
       "Gender                object\n",
       "Married               object\n",
       "Dependents            object\n",
       "Education             object\n",
       "Self_Employed         object\n",
       "ApplicantIncome        int64\n",
       "CoapplicantIncome    float64\n",
       "LoanAmount           float64\n",
       "Loan_Amount_Term     float64\n",
       "Credit_History       float64\n",
       "Property_Area         object\n",
       "Loan_Status           object\n",
       "dtype: object"
      ]
     },
     "execution_count": 22,
     "metadata": {},
     "output_type": "execute_result"
    }
   ],
   "source": [
    "df.dtypes"
   ]
  },
  {
   "cell_type": "markdown",
   "id": "d31b9b46",
   "metadata": {
    "papermill": {
     "duration": 0.012506,
     "end_time": "2023-10-06T18:59:38.478731",
     "exception": false,
     "start_time": "2023-10-06T18:59:38.466225",
     "status": "completed"
    },
    "tags": []
   },
   "source": [
    "# Exploratory data analysis (EDA)"
   ]
  },
  {
   "cell_type": "markdown",
   "id": "b9715739",
   "metadata": {
    "papermill": {
     "duration": 0.012002,
     "end_time": "2023-10-06T18:59:38.502720",
     "exception": false,
     "start_time": "2023-10-06T18:59:38.490718",
     "status": "completed"
    },
    "tags": []
   },
   "source": [
    "## Investigating our loan status \n"
   ]
  },
  {
   "cell_type": "code",
   "execution_count": 23,
   "id": "90e6f252",
   "metadata": {
    "execution": {
     "iopub.execute_input": "2023-10-06T18:59:38.529296Z",
     "iopub.status.busy": "2023-10-06T18:59:38.528920Z",
     "iopub.status.idle": "2023-10-06T18:59:38.536772Z",
     "shell.execute_reply": "2023-10-06T18:59:38.535634Z"
    },
    "papermill": {
     "duration": 0.023442,
     "end_time": "2023-10-06T18:59:38.539015",
     "exception": false,
     "start_time": "2023-10-06T18:59:38.515573",
     "status": "completed"
    },
    "tags": []
   },
   "outputs": [
    {
     "data": {
      "text/plain": [
       "Loan_Status\n",
       "Y    422\n",
       "N    192\n",
       "Name: count, dtype: int64"
      ]
     },
     "execution_count": 23,
     "metadata": {},
     "output_type": "execute_result"
    }
   ],
   "source": [
    "df['Loan_Status'].value_counts()"
   ]
  },
  {
   "cell_type": "code",
   "execution_count": 24,
   "id": "135fb2c5",
   "metadata": {
    "execution": {
     "iopub.execute_input": "2023-10-06T18:59:38.565064Z",
     "iopub.status.busy": "2023-10-06T18:59:38.564725Z",
     "iopub.status.idle": "2023-10-06T18:59:38.728935Z",
     "shell.execute_reply": "2023-10-06T18:59:38.727634Z"
    },
    "papermill": {
     "duration": 0.182504,
     "end_time": "2023-10-06T18:59:38.733678",
     "exception": false,
     "start_time": "2023-10-06T18:59:38.551174",
     "status": "completed"
    },
    "tags": []
   },
   "outputs": [
    {
     "data": {
      "image/png": "[encoded data removed]",
      "text/plain": [
       "<Figure size 640x480 with 1 Axes>"
      ]
     },
     "metadata": {},
     "output_type": "display_data"
    }
   ],
   "source": [
    "status_count = df['Loan_Status'].value_counts()\n",
    "plt.pie(status_count,labels=status_count,autopct='%1.1f%%')\n",
    "plt.figlegend(['Loan Approved','Loan Does not Approved']);\n"
   ]
  },
  {
   "cell_type": "markdown",
   "id": "88afa882",
   "metadata": {
    "papermill": {
     "duration": 0.034851,
     "end_time": "2023-10-06T18:59:38.807359",
     "exception": false,
     "start_time": "2023-10-06T18:59:38.772508",
     "status": "completed"
    },
    "tags": []
   },
   "source": [
    "## Relationship between Property area and Loan status"
   ]
  },
  {
   "cell_type": "code",
   "execution_count": 25,
   "id": "588a5b41",
   "metadata": {
    "execution": {
     "iopub.execute_input": "2023-10-06T18:59:38.837000Z",
     "iopub.status.busy": "2023-10-06T18:59:38.835924Z",
     "iopub.status.idle": "2023-10-06T18:59:38.862302Z",
     "shell.execute_reply": "2023-10-06T18:59:38.861123Z"
    },
    "papermill": {
     "duration": 0.043295,
     "end_time": "2023-10-06T18:59:38.864402",
     "exception": false,
     "start_time": "2023-10-06T18:59:38.821107",
     "status": "completed"
    },
    "tags": []
   },
   "outputs": [
    {
     "data": {
      "text/html": [
       "<div>\n",
       "<style scoped>\n",
       "    .dataframe tbody tr th:only-of-type {\n",
       "        vertical-align: middle;\n",
       "    }\n",
       "\n",
       "    .dataframe tbody tr th {\n",
       "        vertical-align: top;\n",
       "    }\n",
       "\n",
       "    .dataframe thead th {\n",
       "        text-align: right;\n",
       "    }\n",
       "</style>\n",
       "<table border=\"1\" class=\"dataframe\">\n",
       "  <thead>\n",
       "    <tr style=\"text-align: right;\">\n",
       "      <th>Loan_Status</th>\n",
       "      <th>N</th>\n",
       "      <th>Y</th>\n",
       "    </tr>\n",
       "    <tr>\n",
       "      <th>Property_Area</th>\n",
       "      <th></th>\n",
       "      <th></th>\n",
       "    </tr>\n",
       "  </thead>\n",
       "  <tbody>\n",
       "    <tr>\n",
       "      <th>Rural</th>\n",
       "      <td>69</td>\n",
       "      <td>110</td>\n",
       "    </tr>\n",
       "    <tr>\n",
       "      <th>Semiurban</th>\n",
       "      <td>54</td>\n",
       "      <td>179</td>\n",
       "    </tr>\n",
       "    <tr>\n",
       "      <th>Urban</th>\n",
       "      <td>69</td>\n",
       "      <td>133</td>\n",
       "    </tr>\n",
       "  </tbody>\n",
       "</table>\n",
       "</div>"
      ],
      "text/plain": [
       "Loan_Status     N    Y\n",
       "Property_Area         \n",
       "Rural          69  110\n",
       "Semiurban      54  179\n",
       "Urban          69  133"
      ]
     },
     "execution_count": 25,
     "metadata": {},
     "output_type": "execute_result"
    }
   ],
   "source": [
    "pd.crosstab(df['Property_Area'],df['Loan_Status'])"
   ]
  },
  {
   "cell_type": "code",
   "execution_count": 26,
   "id": "b8e134ab",
   "metadata": {
    "execution": {
     "iopub.execute_input": "2023-10-06T18:59:38.893127Z",
     "iopub.status.busy": "2023-10-06T18:59:38.892747Z",
     "iopub.status.idle": "2023-10-06T18:59:39.261007Z",
     "shell.execute_reply": "2023-10-06T18:59:39.260217Z"
    },
    "papermill": {
     "duration": 0.385861,
     "end_time": "2023-10-06T18:59:39.263091",
     "exception": false,
     "start_time": "2023-10-06T18:59:38.877230",
     "status": "completed"
    },
    "tags": []
   },
   "outputs": [
    {
     "data": {
      "image/png": "[encoded data removed]",
      "text/plain": [
       "<Figure size 640x480 with 1 Axes>"
      ]
     },
     "metadata": {},
     "output_type": "display_data"
    }
   ],
   "source": [
    "pd.crosstab(df['Property_Area'],df['Loan_Status']).plot(kind='bar')\n",
    "plt.ylabel('Frequency')\n",
    "plt.title('Loan Status VS Property Area')\n",
    "plt.xticks(rotation=0);"
   ]
  },
  {
   "cell_type": "markdown",
   "id": "0fefe615",
   "metadata": {
    "execution": {
     "iopub.execute_input": "2023-10-06T16:49:04.491674Z",
     "iopub.status.busy": "2023-10-06T16:49:04.491189Z",
     "iopub.status.idle": "2023-10-06T16:49:04.500109Z",
     "shell.execute_reply": "2023-10-06T16:49:04.498666Z",
     "shell.execute_reply.started": "2023-10-06T16:49:04.491636Z"
    },
    "papermill": {
     "duration": 0.013738,
     "end_time": "2023-10-06T18:59:39.290391",
     "exception": false,
     "start_time": "2023-10-06T18:59:39.276653",
     "status": "completed"
    },
    "tags": []
   },
   "source": [
    "## Applicant Income Distribution"
   ]
  },
  {
   "cell_type": "code",
   "execution_count": 27,
   "id": "54e3d33d",
   "metadata": {
    "execution": {
     "iopub.execute_input": "2023-10-06T18:59:39.319170Z",
     "iopub.status.busy": "2023-10-06T18:59:39.318532Z",
     "iopub.status.idle": "2023-10-06T18:59:39.714849Z",
     "shell.execute_reply": "2023-10-06T18:59:39.713430Z"
    },
    "papermill": {
     "duration": 0.413927,
     "end_time": "2023-10-06T18:59:39.717708",
     "exception": false,
     "start_time": "2023-10-06T18:59:39.303781",
     "status": "completed"
    },
    "tags": []
   },
   "outputs": [
    {
     "data": {
      "image/png": "[encoded data removed]",
      "text/plain": [
       "<Figure size 640x480 with 1 Axes>"
      ]
     },
     "metadata": {},
     "output_type": "display_data"
    }
   ],
   "source": [
    "sns.histplot(df['ApplicantIncome'],bins=10,kde=True);"
   ]
  },
  {
   "cell_type": "code",
   "execution_count": 28,
   "id": "f56efc16",
   "metadata": {
    "execution": {
     "iopub.execute_input": "2023-10-06T18:59:39.747764Z",
     "iopub.status.busy": "2023-10-06T18:59:39.747386Z",
     "iopub.status.idle": "2023-10-06T18:59:39.766315Z",
     "shell.execute_reply": "2023-10-06T18:59:39.765109Z"
    },
    "papermill": {
     "duration": 0.036818,
     "end_time": "2023-10-06T18:59:39.768749",
     "exception": false,
     "start_time": "2023-10-06T18:59:39.731931",
     "status": "completed"
    },
    "tags": []
   },
   "outputs": [
    {
     "data": {
      "text/html": [
       "<div>\n",
       "<style scoped>\n",
       "    .dataframe tbody tr th:only-of-type {\n",
       "        vertical-align: middle;\n",
       "    }\n",
       "\n",
       "    .dataframe tbody tr th {\n",
       "        vertical-align: top;\n",
       "    }\n",
       "\n",
       "    .dataframe thead th {\n",
       "        text-align: right;\n",
       "    }\n",
       "</style>\n",
       "<table border=\"1\" class=\"dataframe\">\n",
       "  <thead>\n",
       "    <tr style=\"text-align: right;\">\n",
       "      <th>Loan_Status</th>\n",
       "      <th>N</th>\n",
       "      <th>Y</th>\n",
       "    </tr>\n",
       "    <tr>\n",
       "      <th>Credit_History</th>\n",
       "      <th></th>\n",
       "      <th></th>\n",
       "    </tr>\n",
       "  </thead>\n",
       "  <tbody>\n",
       "    <tr>\n",
       "      <th>0.0</th>\n",
       "      <td>82</td>\n",
       "      <td>7</td>\n",
       "    </tr>\n",
       "    <tr>\n",
       "      <th>1.0</th>\n",
       "      <td>110</td>\n",
       "      <td>415</td>\n",
       "    </tr>\n",
       "  </tbody>\n",
       "</table>\n",
       "</div>"
      ],
      "text/plain": [
       "Loan_Status       N    Y\n",
       "Credit_History          \n",
       "0.0              82    7\n",
       "1.0             110  415"
      ]
     },
     "execution_count": 28,
     "metadata": {},
     "output_type": "execute_result"
    }
   ],
   "source": [
    "pd.crosstab(df['Credit_History'],df['Loan_Status'])"
   ]
  },
  {
   "cell_type": "code",
   "execution_count": 29,
   "id": "e99d4d2d",
   "metadata": {
    "execution": {
     "iopub.execute_input": "2023-10-06T18:59:39.799086Z",
     "iopub.status.busy": "2023-10-06T18:59:39.798213Z",
     "iopub.status.idle": "2023-10-06T18:59:40.149499Z",
     "shell.execute_reply": "2023-10-06T18:59:40.148358Z"
    },
    "papermill": {
     "duration": 0.369187,
     "end_time": "2023-10-06T18:59:40.151817",
     "exception": false,
     "start_time": "2023-10-06T18:59:39.782630",
     "status": "completed"
    },
    "tags": []
   },
   "outputs": [
    {
     "data": {
      "image/png": "[encoded data removed]",
      "text/plain": [
       "<Figure size 640x480 with 1 Axes>"
      ]
     },
     "metadata": {},
     "output_type": "display_data"
    }
   ],
   "source": [
    "pd.crosstab(df['Credit_History'],df['Loan_Status']).plot(kind='bar')\n",
    "plt.ylabel('Frequency')\n",
    "plt.xlabel('0.0: No credit history, 1.0: Have Credit history')\n",
    "plt.title('Credit History VS Loan Status')\n",
    "plt.xticks(rotation=0);"
   ]
  },
  {
   "cell_type": "markdown",
   "id": "10114c0d",
   "metadata": {
    "execution": {
     "iopub.execute_input": "2023-10-06T17:05:28.063955Z",
     "iopub.status.busy": "2023-10-06T17:05:28.063514Z",
     "iopub.status.idle": "2023-10-06T17:05:28.069183Z",
     "shell.execute_reply": "2023-10-06T17:05:28.067914Z",
     "shell.execute_reply.started": "2023-10-06T17:05:28.063921Z"
    },
    "papermill": {
     "duration": 0.018661,
     "end_time": "2023-10-06T18:59:40.185968",
     "exception": false,
     "start_time": "2023-10-06T18:59:40.167307",
     "status": "completed"
    },
    "tags": []
   },
   "source": [
    "# Correlation analysis "
   ]
  },
  {
   "cell_type": "code",
   "execution_count": 30,
   "id": "aeadd5e6",
   "metadata": {
    "execution": {
     "iopub.execute_input": "2023-10-06T18:59:40.218616Z",
     "iopub.status.busy": "2023-10-06T18:59:40.217886Z",
     "iopub.status.idle": "2023-10-06T18:59:40.407030Z",
     "shell.execute_reply": "2023-10-06T18:59:40.405813Z"
    },
    "papermill": {
     "duration": 0.208524,
     "end_time": "2023-10-06T18:59:40.409459",
     "exception": false,
     "start_time": "2023-10-06T18:59:40.200935",
     "status": "completed"
    },
    "tags": []
   },
   "outputs": [
    {
     "name": "stdout",
     "output_type": "stream",
     "text": [
      "Gender: ['Male' 'Female']\n",
      "Married: ['No' 'Yes']\n",
      "Dependents: ['0' '1' '2' '3+']\n",
      "Education: ['Graduate' 'Not Graduate']\n",
      "Self_Employed: ['No' 'Yes']\n",
      "Property_Area: ['Urban' 'Rural' 'Semiurban']\n",
      "Loan_Status: ['Y' 'N']\n"
     ]
    }
   ],
   "source": [
    "from sklearn.preprocessing import LabelEncoder\n",
    "\n",
    "df.drop('Loan_ID',axis=1,inplace=True)\n",
    "\n",
    "for col in df.select_dtypes(include=['object']).columns:\n",
    "    print(f'{col}: {df[col].unique()}')"
   ]
  },
  {
   "cell_type": "code",
   "execution_count": 31,
   "id": "7a55b0c1",
   "metadata": {
    "execution": {
     "iopub.execute_input": "2023-10-06T18:59:40.441874Z",
     "iopub.status.busy": "2023-10-06T18:59:40.441214Z",
     "iopub.status.idle": "2023-10-06T18:59:40.453730Z",
     "shell.execute_reply": "2023-10-06T18:59:40.452089Z"
    },
    "papermill": {
     "duration": 0.030899,
     "end_time": "2023-10-06T18:59:40.455951",
     "exception": false,
     "start_time": "2023-10-06T18:59:40.425052",
     "status": "completed"
    },
    "tags": []
   },
   "outputs": [
    {
     "name": "stdout",
     "output_type": "stream",
     "text": [
      "Gender: [1 0]\n",
      "Married: [0 1]\n",
      "Dependents: [0 1 2 3]\n",
      "Education: [0 1]\n",
      "Self_Employed: [0 1]\n",
      "Property_Area: [2 0 1]\n",
      "Loan_Status: [1 0]\n"
     ]
    }
   ],
   "source": [
    "le = LabelEncoder()\n",
    "\n",
    "for col in df.select_dtypes(include=['object']).columns:\n",
    "    df[col] = le.fit_transform(df[col])\n",
    "    print(f'{col}: {df[col].unique()}')"
   ]
  },
  {
   "cell_type": "code",
   "execution_count": 32,
   "id": "64ca9104",
   "metadata": {
    "execution": {
     "iopub.execute_input": "2023-10-06T18:59:40.488082Z",
     "iopub.status.busy": "2023-10-06T18:59:40.487025Z",
     "iopub.status.idle": "2023-10-06T18:59:40.510622Z",
     "shell.execute_reply": "2023-10-06T18:59:40.509862Z"
    },
    "papermill": {
     "duration": 0.042041,
     "end_time": "2023-10-06T18:59:40.512565",
     "exception": false,
     "start_time": "2023-10-06T18:59:40.470524",
     "status": "completed"
    },
    "tags": []
   },
   "outputs": [
    {
     "data": {
      "text/html": [
       "<div>\n",
       "<style scoped>\n",
       "    .dataframe tbody tr th:only-of-type {\n",
       "        vertical-align: middle;\n",
       "    }\n",
       "\n",
       "    .dataframe tbody tr th {\n",
       "        vertical-align: top;\n",
       "    }\n",
       "\n",
       "    .dataframe thead th {\n",
       "        text-align: right;\n",
       "    }\n",
       "</style>\n",
       "<table border=\"1\" class=\"dataframe\">\n",
       "  <thead>\n",
       "    <tr style=\"text-align: right;\">\n",
       "      <th></th>\n",
       "      <th>Gender</th>\n",
       "      <th>Married</th>\n",
       "      <th>Dependents</th>\n",
       "      <th>Education</th>\n",
       "      <th>Self_Employed</th>\n",
       "      <th>ApplicantIncome</th>\n",
       "      <th>CoapplicantIncome</th>\n",
       "      <th>LoanAmount</th>\n",
       "      <th>Loan_Amount_Term</th>\n",
       "      <th>Credit_History</th>\n",
       "      <th>Property_Area</th>\n",
       "      <th>Loan_Status</th>\n",
       "    </tr>\n",
       "  </thead>\n",
       "  <tbody>\n",
       "    <tr>\n",
       "      <th>Gender</th>\n",
       "      <td>1.00</td>\n",
       "      <td>0.34</td>\n",
       "      <td>0.15</td>\n",
       "      <td>0.06</td>\n",
       "      <td>-0.04</td>\n",
       "      <td>0.01</td>\n",
       "      <td>0.08</td>\n",
       "      <td>0.06</td>\n",
       "      <td>-0.07</td>\n",
       "      <td>0.02</td>\n",
       "      <td>-0.02</td>\n",
       "      <td>0.03</td>\n",
       "    </tr>\n",
       "    <tr>\n",
       "      <th>Married</th>\n",
       "      <td>0.34</td>\n",
       "      <td>1.00</td>\n",
       "      <td>0.34</td>\n",
       "      <td>0.02</td>\n",
       "      <td>-0.02</td>\n",
       "      <td>0.05</td>\n",
       "      <td>0.08</td>\n",
       "      <td>0.15</td>\n",
       "      <td>-0.10</td>\n",
       "      <td>0.01</td>\n",
       "      <td>0.00</td>\n",
       "      <td>0.08</td>\n",
       "    </tr>\n",
       "    <tr>\n",
       "      <th>Dependents</th>\n",
       "      <td>0.15</td>\n",
       "      <td>0.34</td>\n",
       "      <td>1.00</td>\n",
       "      <td>0.06</td>\n",
       "      <td>0.04</td>\n",
       "      <td>0.12</td>\n",
       "      <td>0.03</td>\n",
       "      <td>0.16</td>\n",
       "      <td>-0.10</td>\n",
       "      <td>-0.04</td>\n",
       "      <td>-0.00</td>\n",
       "      <td>0.01</td>\n",
       "    </tr>\n",
       "    <tr>\n",
       "      <th>Education</th>\n",
       "      <td>0.06</td>\n",
       "      <td>0.02</td>\n",
       "      <td>0.06</td>\n",
       "      <td>1.00</td>\n",
       "      <td>-0.02</td>\n",
       "      <td>-0.14</td>\n",
       "      <td>-0.06</td>\n",
       "      <td>-0.17</td>\n",
       "      <td>-0.07</td>\n",
       "      <td>-0.07</td>\n",
       "      <td>-0.07</td>\n",
       "      <td>-0.09</td>\n",
       "    </tr>\n",
       "    <tr>\n",
       "      <th>Self_Employed</th>\n",
       "      <td>-0.04</td>\n",
       "      <td>-0.02</td>\n",
       "      <td>0.04</td>\n",
       "      <td>-0.02</td>\n",
       "      <td>1.00</td>\n",
       "      <td>0.12</td>\n",
       "      <td>0.03</td>\n",
       "      <td>0.11</td>\n",
       "      <td>-0.04</td>\n",
       "      <td>0.04</td>\n",
       "      <td>-0.02</td>\n",
       "      <td>0.01</td>\n",
       "    </tr>\n",
       "    <tr>\n",
       "      <th>ApplicantIncome</th>\n",
       "      <td>0.01</td>\n",
       "      <td>0.05</td>\n",
       "      <td>0.12</td>\n",
       "      <td>-0.14</td>\n",
       "      <td>0.12</td>\n",
       "      <td>1.00</td>\n",
       "      <td>-0.12</td>\n",
       "      <td>0.57</td>\n",
       "      <td>-0.05</td>\n",
       "      <td>-0.02</td>\n",
       "      <td>-0.01</td>\n",
       "      <td>-0.00</td>\n",
       "    </tr>\n",
       "    <tr>\n",
       "      <th>CoapplicantIncome</th>\n",
       "      <td>0.08</td>\n",
       "      <td>0.08</td>\n",
       "      <td>0.03</td>\n",
       "      <td>-0.06</td>\n",
       "      <td>0.03</td>\n",
       "      <td>-0.12</td>\n",
       "      <td>1.00</td>\n",
       "      <td>0.19</td>\n",
       "      <td>-0.06</td>\n",
       "      <td>0.01</td>\n",
       "      <td>0.01</td>\n",
       "      <td>-0.06</td>\n",
       "    </tr>\n",
       "    <tr>\n",
       "      <th>LoanAmount</th>\n",
       "      <td>0.06</td>\n",
       "      <td>0.15</td>\n",
       "      <td>0.16</td>\n",
       "      <td>-0.17</td>\n",
       "      <td>0.11</td>\n",
       "      <td>0.57</td>\n",
       "      <td>0.19</td>\n",
       "      <td>1.00</td>\n",
       "      <td>0.04</td>\n",
       "      <td>-0.00</td>\n",
       "      <td>-0.05</td>\n",
       "      <td>-0.03</td>\n",
       "    </tr>\n",
       "    <tr>\n",
       "      <th>Loan_Amount_Term</th>\n",
       "      <td>-0.07</td>\n",
       "      <td>-0.10</td>\n",
       "      <td>-0.10</td>\n",
       "      <td>-0.07</td>\n",
       "      <td>-0.04</td>\n",
       "      <td>-0.05</td>\n",
       "      <td>-0.06</td>\n",
       "      <td>0.04</td>\n",
       "      <td>1.00</td>\n",
       "      <td>-0.00</td>\n",
       "      <td>-0.08</td>\n",
       "      <td>-0.02</td>\n",
       "    </tr>\n",
       "    <tr>\n",
       "      <th>Credit_History</th>\n",
       "      <td>0.02</td>\n",
       "      <td>0.01</td>\n",
       "      <td>-0.04</td>\n",
       "      <td>-0.07</td>\n",
       "      <td>0.04</td>\n",
       "      <td>-0.02</td>\n",
       "      <td>0.01</td>\n",
       "      <td>-0.00</td>\n",
       "      <td>-0.00</td>\n",
       "      <td>1.00</td>\n",
       "      <td>0.00</td>\n",
       "      <td>0.54</td>\n",
       "    </tr>\n",
       "    <tr>\n",
       "      <th>Property_Area</th>\n",
       "      <td>-0.02</td>\n",
       "      <td>0.00</td>\n",
       "      <td>-0.00</td>\n",
       "      <td>-0.07</td>\n",
       "      <td>-0.02</td>\n",
       "      <td>-0.01</td>\n",
       "      <td>0.01</td>\n",
       "      <td>-0.05</td>\n",
       "      <td>-0.08</td>\n",
       "      <td>0.00</td>\n",
       "      <td>1.00</td>\n",
       "      <td>0.03</td>\n",
       "    </tr>\n",
       "    <tr>\n",
       "      <th>Loan_Status</th>\n",
       "      <td>0.03</td>\n",
       "      <td>0.08</td>\n",
       "      <td>0.01</td>\n",
       "      <td>-0.09</td>\n",
       "      <td>0.01</td>\n",
       "      <td>-0.00</td>\n",
       "      <td>-0.06</td>\n",
       "      <td>-0.03</td>\n",
       "      <td>-0.02</td>\n",
       "      <td>0.54</td>\n",
       "      <td>0.03</td>\n",
       "      <td>1.00</td>\n",
       "    </tr>\n",
       "  </tbody>\n",
       "</table>\n",
       "</div>"
      ],
      "text/plain": [
       "                   Gender  Married  Dependents  Education  Self_Employed  \\\n",
       "Gender               1.00     0.34        0.15       0.06          -0.04   \n",
       "Married              0.34     1.00        0.34       0.02          -0.02   \n",
       "Dependents           0.15     0.34        1.00       0.06           0.04   \n",
       "Education            0.06     0.02        0.06       1.00          -0.02   \n",
       "Self_Employed       -0.04    -0.02        0.04      -0.02           1.00   \n",
       "ApplicantIncome      0.01     0.05        0.12      -0.14           0.12   \n",
       "CoapplicantIncome    0.08     0.08        0.03      -0.06           0.03   \n",
       "LoanAmount           0.06     0.15        0.16      -0.17           0.11   \n",
       "Loan_Amount_Term    -0.07    -0.10       -0.10      -0.07          -0.04   \n",
       "Credit_History       0.02     0.01       -0.04      -0.07           0.04   \n",
       "Property_Area       -0.02     0.00       -0.00      -0.07          -0.02   \n",
       "Loan_Status          0.03     0.08        0.01      -0.09           0.01   \n",
       "\n",
       "                   ApplicantIncome  CoapplicantIncome  LoanAmount  \\\n",
       "Gender                        0.01               0.08        0.06   \n",
       "Married                       0.05               0.08        0.15   \n",
       "Dependents                    0.12               0.03        0.16   \n",
       "Education                    -0.14              -0.06       -0.17   \n",
       "Self_Employed                 0.12               0.03        0.11   \n",
       "ApplicantIncome               1.00              -0.12        0.57   \n",
       "CoapplicantIncome            -0.12               1.00        0.19   \n",
       "LoanAmount                    0.57               0.19        1.00   \n",
       "Loan_Amount_Term             -0.05              -0.06        0.04   \n",
       "Credit_History               -0.02               0.01       -0.00   \n",
       "Property_Area                -0.01               0.01       -0.05   \n",
       "Loan_Status                  -0.00              -0.06       -0.03   \n",
       "\n",
       "                   Loan_Amount_Term  Credit_History  Property_Area  \\\n",
       "Gender                        -0.07            0.02          -0.02   \n",
       "Married                       -0.10            0.01           0.00   \n",
       "Dependents                    -0.10           -0.04          -0.00   \n",
       "Education                     -0.07           -0.07          -0.07   \n",
       "Self_Employed                 -0.04            0.04          -0.02   \n",
       "ApplicantIncome               -0.05           -0.02          -0.01   \n",
       "CoapplicantIncome             -0.06            0.01           0.01   \n",
       "LoanAmount                     0.04           -0.00          -0.05   \n",
       "Loan_Amount_Term               1.00           -0.00          -0.08   \n",
       "Credit_History                -0.00            1.00           0.00   \n",
       "Property_Area                 -0.08            0.00           1.00   \n",
       "Loan_Status                   -0.02            0.54           0.03   \n",
       "\n",
       "                   Loan_Status  \n",
       "Gender                    0.03  \n",
       "Married                   0.08  \n",
       "Dependents                0.01  \n",
       "Education                -0.09  \n",
       "Self_Employed             0.01  \n",
       "ApplicantIncome          -0.00  \n",
       "CoapplicantIncome        -0.06  \n",
       "LoanAmount               -0.03  \n",
       "Loan_Amount_Term         -0.02  \n",
       "Credit_History            0.54  \n",
       "Property_Area             0.03  \n",
       "Loan_Status               1.00  "
      ]
     },
     "execution_count": 32,
     "metadata": {},
     "output_type": "execute_result"
    }
   ],
   "source": [
    "corr_matrix = df.corr().round(2)\n",
    "corr_matrix"
   ]
  },
  {
   "cell_type": "code",
   "execution_count": 33,
   "id": "dce01aec",
   "metadata": {
    "execution": {
     "iopub.execute_input": "2023-10-06T18:59:40.545267Z",
     "iopub.status.busy": "2023-10-06T18:59:40.543867Z",
     "iopub.status.idle": "2023-10-06T18:59:41.383820Z",
     "shell.execute_reply": "2023-10-06T18:59:41.382625Z"
    },
    "papermill": {
     "duration": 0.859036,
     "end_time": "2023-10-06T18:59:41.386936",
     "exception": false,
     "start_time": "2023-10-06T18:59:40.527900",
     "status": "completed"
    },
    "tags": []
   },
   "outputs": [
    {
     "data": {
      "image/png": "[encoded data removed]",
      "text/plain": [
       "<Figure size 1000x800 with 2 Axes>"
      ]
     },
     "metadata": {},
     "output_type": "display_data"
    }
   ],
   "source": [
    "## plot corr matrix into heatmap \n",
    "plt.figure(figsize=(10,8))\n",
    "sns.heatmap(corr_matrix,annot=True)\n",
    "plt.title('Correlation Matrix Heatmap');"
   ]
  },
  {
   "cell_type": "markdown",
   "id": "3b583fb2",
   "metadata": {
    "papermill": {
     "duration": 0.017845,
     "end_time": "2023-10-06T18:59:41.422338",
     "exception": false,
     "start_time": "2023-10-06T18:59:41.404493",
     "status": "completed"
    },
    "tags": []
   },
   "source": [
    "# Modelling"
   ]
  },
  {
   "cell_type": "code",
   "execution_count": 34,
   "id": "58b1c91f",
   "metadata": {
    "execution": {
     "iopub.execute_input": "2023-10-06T18:59:41.460413Z",
     "iopub.status.busy": "2023-10-06T18:59:41.459715Z",
     "iopub.status.idle": "2023-10-06T18:59:41.723822Z",
     "shell.execute_reply": "2023-10-06T18:59:41.722854Z"
    },
    "papermill": {
     "duration": 0.286454,
     "end_time": "2023-10-06T18:59:41.726765",
     "exception": false,
     "start_time": "2023-10-06T18:59:41.440311",
     "status": "completed"
    },
    "tags": []
   },
   "outputs": [],
   "source": [
    "from sklearn.linear_model import RidgeClassifierCV\n",
    "from sklearn.model_selection import train_test_split,GridSearchCV\n",
    "from sklearn.metrics import accuracy_score,f1_score,recall_score,precision_score,classification_report,confusion_matrix\n",
    "\n",
    "\n",
    "# split X(features) and y(target)\n",
    "X = df.drop('Loan_Status',axis=1)\n",
    "y = df['Loan_Status']\n",
    "\n",
    "#Split train and test data\n",
    "X_train,X_test,y_train,y_test = train_test_split(X,y,train_size=0.2,random_state=42)\n",
    "\n",
    "model = RidgeClassifierCV()"
   ]
  },
  {
   "cell_type": "code",
   "execution_count": 35,
   "id": "fc6dce94",
   "metadata": {
    "execution": {
     "iopub.execute_input": "2023-10-06T18:59:41.765270Z",
     "iopub.status.busy": "2023-10-06T18:59:41.764892Z",
     "iopub.status.idle": "2023-10-06T18:59:41.795172Z",
     "shell.execute_reply": "2023-10-06T18:59:41.794235Z"
    },
    "papermill": {
     "duration": 0.052135,
     "end_time": "2023-10-06T18:59:41.797381",
     "exception": false,
     "start_time": "2023-10-06T18:59:41.745246",
     "status": "completed"
    },
    "tags": []
   },
   "outputs": [
    {
     "data": {
      "text/plain": [
       "0.806910569105691"
      ]
     },
     "execution_count": 35,
     "metadata": {},
     "output_type": "execute_result"
    }
   ],
   "source": [
    "model.fit(X_train,y_train)\n",
    "model.score(X_test,y_test)"
   ]
  },
  {
   "cell_type": "code",
   "execution_count": 36,
   "id": "51410d85",
   "metadata": {
    "execution": {
     "iopub.execute_input": "2023-10-06T18:59:41.835044Z",
     "iopub.status.busy": "2023-10-06T18:59:41.832927Z",
     "iopub.status.idle": "2023-10-06T18:59:41.844869Z",
     "shell.execute_reply": "2023-10-06T18:59:41.843577Z"
    },
    "papermill": {
     "duration": 0.032538,
     "end_time": "2023-10-06T18:59:41.847038",
     "exception": false,
     "start_time": "2023-10-06T18:59:41.814500",
     "status": "completed"
    },
    "tags": []
   },
   "outputs": [
    {
     "data": {
      "text/plain": [
       "array([1, 1, 1, 1, 1, 1, 1, 1, 1, 1, 0, 1, 1, 1, 1, 1, 1, 1, 1, 1, 1, 1,\n",
       "       1, 1, 1, 1, 1, 1, 1, 1, 1, 1, 1, 1, 1, 0, 1, 1, 1, 1, 1, 1, 1, 1,\n",
       "       1, 1, 1, 0, 0, 0, 1, 1, 0, 1, 1, 1, 1, 1, 0, 1, 0, 1, 0, 1, 1, 1,\n",
       "       1, 1, 1, 1, 0, 1, 1, 1, 0, 1, 1, 0, 0, 1, 1, 1, 1, 1, 1, 1, 1, 0,\n",
       "       1, 1, 1, 0, 0, 1, 1, 1, 1, 1, 1, 1, 1, 1, 0, 1, 1, 0, 1, 0, 1, 1,\n",
       "       1, 0, 1, 1, 1, 1, 1, 1, 1, 1, 1, 1, 1, 1, 1, 1, 1, 0, 1, 1, 0, 1,\n",
       "       1, 0, 1, 1, 1, 1, 1, 1, 1, 1, 1, 1, 1, 1, 1, 1, 1, 1, 1, 1, 0, 1,\n",
       "       1, 1, 1, 1, 0, 1, 1, 1, 1, 1, 1, 1, 1, 1, 0, 1, 0, 0, 1, 0, 1, 1,\n",
       "       1, 1, 1, 1, 1, 1, 1, 1, 0, 0, 1, 1, 1, 1, 0, 1, 0, 1, 1, 1, 1, 0,\n",
       "       0, 1, 0, 1, 1, 1, 1, 1, 0, 1, 1, 1, 0, 1, 1, 1, 1, 1, 1, 1, 1, 1,\n",
       "       1, 1, 1, 1, 1, 1, 1, 1, 1, 1, 1, 1, 1, 1, 1, 1, 1, 0, 1, 1, 1, 1,\n",
       "       1, 1, 0, 1, 1, 1, 1, 1, 1, 1, 1, 0, 1, 1, 1, 1, 1, 1, 1, 1, 1, 1,\n",
       "       1, 1, 0, 1, 1, 1, 1, 1, 1, 1, 1, 0, 0, 1, 0, 1, 1, 1, 1, 1, 1, 1,\n",
       "       0, 1, 1, 1, 1, 0, 1, 1, 1, 1, 1, 0, 1, 1, 1, 1, 1, 1, 1, 1, 1, 1,\n",
       "       1, 0, 1, 1, 1, 1, 1, 0, 1, 0, 1, 1, 1, 1, 1, 1, 1, 1, 1, 1, 1, 1,\n",
       "       1, 0, 0, 1, 1, 1, 1, 1, 1, 1, 1, 0, 1, 1, 1, 1, 1, 1, 0, 1, 1, 1,\n",
       "       1, 1, 0, 1, 1, 1, 1, 1, 0, 1, 1, 0, 1, 0, 1, 1, 1, 1, 0, 1, 1, 1,\n",
       "       1, 1, 1, 0, 1, 1, 1, 1, 0, 1, 0, 1, 1, 1, 1, 1, 1, 0, 1, 0, 1, 1,\n",
       "       0, 1, 1, 1, 1, 1, 1, 1, 1, 1, 1, 0, 1, 1, 1, 1, 1, 0, 0, 1, 0, 0,\n",
       "       1, 1, 1, 0, 1, 1, 1, 1, 1, 1, 1, 1, 1, 1, 1, 1, 1, 1, 1, 1, 1, 1,\n",
       "       1, 1, 1, 1, 1, 1, 1, 1, 1, 1, 1, 1, 1, 1, 1, 1, 1, 1, 1, 1, 1, 1,\n",
       "       1, 0, 0, 1, 1, 1, 1, 1, 1, 1, 1, 1, 1, 1, 1, 1, 1, 0, 1, 1, 1, 1,\n",
       "       1, 1, 0, 1, 1, 1, 1, 0])"
      ]
     },
     "execution_count": 36,
     "metadata": {},
     "output_type": "execute_result"
    }
   ],
   "source": [
    "y_preds = model.predict(X_test)\n",
    "y_preds"
   ]
  },
  {
   "cell_type": "code",
   "execution_count": 37,
   "id": "8aa0689c",
   "metadata": {
    "execution": {
     "iopub.execute_input": "2023-10-06T18:59:41.883389Z",
     "iopub.status.busy": "2023-10-06T18:59:41.882992Z",
     "iopub.status.idle": "2023-10-06T18:59:41.892410Z",
     "shell.execute_reply": "2023-10-06T18:59:41.891484Z"
    },
    "papermill": {
     "duration": 0.03018,
     "end_time": "2023-10-06T18:59:41.894309",
     "exception": false,
     "start_time": "2023-10-06T18:59:41.864129",
     "status": "completed"
    },
    "tags": []
   },
   "outputs": [
    {
     "data": {
      "text/plain": [
       "array([[0.39085335, 0.60914665],\n",
       "       [0.37742789, 0.62257211],\n",
       "       [0.3293724 , 0.6706276 ],\n",
       "       [0.43239395, 0.56760605],\n",
       "       [0.45851236, 0.54148764]])"
      ]
     },
     "execution_count": 37,
     "metadata": {},
     "output_type": "execute_result"
    }
   ],
   "source": [
    "model._predict_proba_lr(X_test)[:5]"
   ]
  },
  {
   "cell_type": "code",
   "execution_count": 38,
   "id": "96b64902",
   "metadata": {
    "execution": {
     "iopub.execute_input": "2023-10-06T18:59:41.931057Z",
     "iopub.status.busy": "2023-10-06T18:59:41.930431Z",
     "iopub.status.idle": "2023-10-06T18:59:41.943770Z",
     "shell.execute_reply": "2023-10-06T18:59:41.942295Z"
    },
    "papermill": {
     "duration": 0.034029,
     "end_time": "2023-10-06T18:59:41.946020",
     "exception": false,
     "start_time": "2023-10-06T18:59:41.911991",
     "status": "completed"
    },
    "tags": []
   },
   "outputs": [
    {
     "name": "stdout",
     "output_type": "stream",
     "text": [
      "              precision    recall  f1-score   support\n",
      "\n",
      "           0       0.90      0.44      0.59       156\n",
      "           1       0.79      0.98      0.87       336\n",
      "\n",
      "    accuracy                           0.81       492\n",
      "   macro avg       0.84      0.71      0.73       492\n",
      "weighted avg       0.82      0.81      0.78       492\n",
      "\n"
     ]
    }
   ],
   "source": [
    "print(classification_report(y_test,y_preds))"
   ]
  },
  {
   "cell_type": "markdown",
   "id": "69e12cfb",
   "metadata": {
    "papermill": {
     "duration": 0.016925,
     "end_time": "2023-10-06T18:59:41.981386",
     "exception": false,
     "start_time": "2023-10-06T18:59:41.964461",
     "status": "completed"
    },
    "tags": []
   },
   "source": [
    "# Tuning Hyperparameter by GridSearchCV"
   ]
  },
  {
   "cell_type": "code",
   "execution_count": 39,
   "id": "385ef408",
   "metadata": {
    "execution": {
     "iopub.execute_input": "2023-10-06T18:59:42.019460Z",
     "iopub.status.busy": "2023-10-06T18:59:42.018810Z",
     "iopub.status.idle": "2023-10-06T18:59:42.025739Z",
     "shell.execute_reply": "2023-10-06T18:59:42.024352Z"
    },
    "papermill": {
     "duration": 0.029413,
     "end_time": "2023-10-06T18:59:42.027956",
     "exception": false,
     "start_time": "2023-10-06T18:59:41.998543",
     "status": "completed"
    },
    "tags": []
   },
   "outputs": [
    {
     "data": {
      "text/plain": [
       "{'alphas': (0.1, 1.0, 10.0),\n",
       " 'class_weight': None,\n",
       " 'cv': None,\n",
       " 'fit_intercept': True,\n",
       " 'scoring': None,\n",
       " 'store_cv_values': False}"
      ]
     },
     "execution_count": 39,
     "metadata": {},
     "output_type": "execute_result"
    }
   ],
   "source": [
    "model.get_params()"
   ]
  },
  {
   "cell_type": "code",
   "execution_count": 40,
   "id": "c95455c2",
   "metadata": {
    "execution": {
     "iopub.execute_input": "2023-10-06T18:59:42.065075Z",
     "iopub.status.busy": "2023-10-06T18:59:42.064398Z",
     "iopub.status.idle": "2023-10-06T18:59:42.215843Z",
     "shell.execute_reply": "2023-10-06T18:59:42.214685Z"
    },
    "papermill": {
     "duration": 0.172819,
     "end_time": "2023-10-06T18:59:42.218160",
     "exception": false,
     "start_time": "2023-10-06T18:59:42.045341",
     "status": "completed"
    },
    "tags": []
   },
   "outputs": [
    {
     "name": "stdout",
     "output_type": "stream",
     "text": [
      "Fitting 5 folds for each of 3 candidates, totalling 15 fits\n",
      "[CV 1/5] END ........................alphas=0.1;, score=0.880 total time=   0.0s\n",
      "[CV 2/5] END ........................alphas=0.1;, score=0.880 total time=   0.0s\n",
      "[CV 3/5] END ........................alphas=0.1;, score=0.667 total time=   0.0s\n",
      "[CV 4/5] END ........................alphas=0.1;, score=0.792 total time=   0.0s\n",
      "[CV 5/5] END ........................alphas=0.1;, score=0.750 total time=   0.0s\n",
      "[CV 1/5] END ........................alphas=1.0;, score=0.880 total time=   0.0s\n",
      "[CV 2/5] END ........................alphas=1.0;, score=0.880 total time=   0.0s\n",
      "[CV 3/5] END ........................alphas=1.0;, score=0.667 total time=   0.0s\n",
      "[CV 4/5] END ........................alphas=1.0;, score=0.792 total time=   0.0s\n",
      "[CV 5/5] END ........................alphas=1.0;, score=0.750 total time=   0.0s\n",
      "[CV 1/5] END .......................alphas=10.0;, score=0.840 total time=   0.0s\n",
      "[CV 2/5] END .......................alphas=10.0;, score=0.840 total time=   0.0s\n",
      "[CV 3/5] END .......................alphas=10.0;, score=0.667 total time=   0.0s\n",
      "[CV 4/5] END .......................alphas=10.0;, score=0.708 total time=   0.0s\n",
      "[CV 5/5] END .......................alphas=10.0;, score=0.750 total time=   0.0s\n"
     ]
    },
    {
     "data": {
      "text/html": [
       "<style>#sk-container-id-1 {color: black;background-color: white;}#sk-container-id-1 pre{padding: 0;}#sk-container-id-1 div.sk-toggleable {background-color: white;}#sk-container-id-1 label.sk-toggleable__label {cursor: pointer;display: block;width: 100%;margin-bottom: 0;padding: 0.3em;box-sizing: border-box;text-align: center;}#sk-container-id-1 label.sk-toggleable__label-arrow:before {content: \"▸\";float: left;margin-right: 0.25em;color: #696969;}#sk-container-id-1 label.sk-toggleable__label-arrow:hover:before {color: black;}#sk-container-id-1 div.sk-estimator:hover label.sk-toggleable__label-arrow:before {color: black;}#sk-container-id-1 div.sk-toggleable__content {max-height: 0;max-width: 0;overflow: hidden;text-align: left;background-color: #f0f8ff;}#sk-container-id-1 div.sk-toggleable__content pre {margin: 0.2em;color: black;border-radius: 0.25em;background-color: #f0f8ff;}#sk-container-id-1 input.sk-toggleable__control:checked~div.sk-toggleable__content {max-height: 200px;max-width: 100%;overflow: auto;}#sk-container-id-1 input.sk-toggleable__control:checked~label.sk-toggleable__label-arrow:before {content: \"▾\";}#sk-container-id-1 div.sk-estimator input.sk-toggleable__control:checked~label.sk-toggleable__label {background-color: #d4ebff;}#sk-container-id-1 div.sk-label input.sk-toggleable__control:checked~label.sk-toggleable__label {background-color: #d4ebff;}#sk-container-id-1 input.sk-hidden--visually {border: 0;clip: rect(1px 1px 1px 1px);clip: rect(1px, 1px, 1px, 1px);height: 1px;margin: -1px;overflow: hidden;padding: 0;position: absolute;width: 1px;}#sk-container-id-1 div.sk-estimator {font-family: monospace;background-color: #f0f8ff;border: 1px dotted black;border-radius: 0.25em;box-sizing: border-box;margin-bottom: 0.5em;}#sk-container-id-1 div.sk-estimator:hover {background-color: #d4ebff;}#sk-container-id-1 div.sk-parallel-item::after {content: \"\";width: 100%;border-bottom: 1px solid gray;flex-grow: 1;}#sk-container-id-1 div.sk-label:hover label.sk-toggleable__label {background-color: #d4ebff;}#sk-container-id-1 div.sk-serial::before {content: \"\";position: absolute;border-left: 1px solid gray;box-sizing: border-box;top: 0;bottom: 0;left: 50%;z-index: 0;}#sk-container-id-1 div.sk-serial {display: flex;flex-direction: column;align-items: center;background-color: white;padding-right: 0.2em;padding-left: 0.2em;position: relative;}#sk-container-id-1 div.sk-item {position: relative;z-index: 1;}#sk-container-id-1 div.sk-parallel {display: flex;align-items: stretch;justify-content: center;background-color: white;position: relative;}#sk-container-id-1 div.sk-item::before, #sk-container-id-1 div.sk-parallel-item::before {content: \"\";position: absolute;border-left: 1px solid gray;box-sizing: border-box;top: 0;bottom: 0;left: 50%;z-index: -1;}#sk-container-id-1 div.sk-parallel-item {display: flex;flex-direction: column;z-index: 1;position: relative;background-color: white;}#sk-container-id-1 div.sk-parallel-item:first-child::after {align-self: flex-end;width: 50%;}#sk-container-id-1 div.sk-parallel-item:last-child::after {align-self: flex-start;width: 50%;}#sk-container-id-1 div.sk-parallel-item:only-child::after {width: 0;}#sk-container-id-1 div.sk-dashed-wrapped {border: 1px dashed gray;margin: 0 0.4em 0.5em 0.4em;box-sizing: border-box;padding-bottom: 0.4em;background-color: white;}#sk-container-id-1 div.sk-label label {font-family: monospace;font-weight: bold;display: inline-block;line-height: 1.2em;}#sk-container-id-1 div.sk-label-container {text-align: center;}#sk-container-id-1 div.sk-container {/* jupyter's `normalize.less` sets `[hidden] { display: none; }` but bootstrap.min.css set `[hidden] { display: none !important; }` so we also need the `!important` here to be able to override the default hidden behavior on the sphinx rendered scikit-learn.org. See: https://github.com/scikit-learn/scikit-learn/issues/21755 */display: inline-block !important;position: relative;}#sk-container-id-1 div.sk-text-repr-fallback {display: none;}</style><div id=\"sk-container-id-1\" class=\"sk-top-container\"><div class=\"sk-text-repr-fallback\"><pre>GridSearchCV(estimator=RidgeClassifierCV(), n_jobs=1,\n",
       "             param_grid={&#x27;alphas&#x27;: [0.1, 1.0, 10.0]}, verbose=3)</pre><b>In a Jupyter environment, please rerun this cell to show the HTML representation or trust the notebook. <br />On GitHub, the HTML representation is unable to render, please try loading this page with nbviewer.org.</b></div><div class=\"sk-container\" hidden><div class=\"sk-item sk-dashed-wrapped\"><div class=\"sk-label-container\"><div class=\"sk-label sk-toggleable\"><input class=\"sk-toggleable__control sk-hidden--visually\" id=\"sk-estimator-id-1\" type=\"checkbox\" ><label for=\"sk-estimator-id-1\" class=\"sk-toggleable__label sk-toggleable__label-arrow\">GridSearchCV</label><div class=\"sk-toggleable__content\"><pre>GridSearchCV(estimator=RidgeClassifierCV(), n_jobs=1,\n",
       "             param_grid={&#x27;alphas&#x27;: [0.1, 1.0, 10.0]}, verbose=3)</pre></div></div></div><div class=\"sk-parallel\"><div class=\"sk-parallel-item\"><div class=\"sk-item\"><div class=\"sk-label-container\"><div class=\"sk-label sk-toggleable\"><input class=\"sk-toggleable__control sk-hidden--visually\" id=\"sk-estimator-id-2\" type=\"checkbox\" ><label for=\"sk-estimator-id-2\" class=\"sk-toggleable__label sk-toggleable__label-arrow\">estimator: RidgeClassifierCV</label><div class=\"sk-toggleable__content\"><pre>RidgeClassifierCV()</pre></div></div></div><div class=\"sk-serial\"><div class=\"sk-item\"><div class=\"sk-estimator sk-toggleable\"><input class=\"sk-toggleable__control sk-hidden--visually\" id=\"sk-estimator-id-3\" type=\"checkbox\" ><label for=\"sk-estimator-id-3\" class=\"sk-toggleable__label sk-toggleable__label-arrow\">RidgeClassifierCV</label><div class=\"sk-toggleable__content\"><pre>RidgeClassifierCV()</pre></div></div></div></div></div></div></div></div></div></div>"
      ],
      "text/plain": [
       "GridSearchCV(estimator=RidgeClassifierCV(), n_jobs=1,\n",
       "             param_grid={'alphas': [0.1, 1.0, 10.0]}, verbose=3)"
      ]
     },
     "execution_count": 40,
     "metadata": {},
     "output_type": "execute_result"
    }
   ],
   "source": [
    "gs_params = {\n",
    "    'alphas':[0.1,1.0,10.0]\n",
    "}\n",
    "\n",
    "gs_model = GridSearchCV(estimator=RidgeClassifierCV(),\n",
    "                        param_grid=gs_params,\n",
    "                        n_jobs=1,\n",
    "                        verbose=3\n",
    "                       )\n",
    "\n",
    "gs_model.fit(X_train,y_train)"
   ]
  },
  {
   "cell_type": "code",
   "execution_count": 41,
   "id": "085dbd9b",
   "metadata": {
    "execution": {
     "iopub.execute_input": "2023-10-06T18:59:42.255511Z",
     "iopub.status.busy": "2023-10-06T18:59:42.255118Z",
     "iopub.status.idle": "2023-10-06T18:59:42.261647Z",
     "shell.execute_reply": "2023-10-06T18:59:42.260408Z"
    },
    "papermill": {
     "duration": 0.028568,
     "end_time": "2023-10-06T18:59:42.264562",
     "exception": false,
     "start_time": "2023-10-06T18:59:42.235994",
     "status": "completed"
    },
    "tags": []
   },
   "outputs": [
    {
     "data": {
      "text/plain": [
       "{'alphas': 0.1}"
      ]
     },
     "execution_count": 41,
     "metadata": {},
     "output_type": "execute_result"
    }
   ],
   "source": [
    "# best hyperparameter\n",
    "gs_model.best_params_"
   ]
  },
  {
   "cell_type": "code",
   "execution_count": 42,
   "id": "cd5a4692",
   "metadata": {
    "execution": {
     "iopub.execute_input": "2023-10-06T18:59:42.303870Z",
     "iopub.status.busy": "2023-10-06T18:59:42.303508Z",
     "iopub.status.idle": "2023-10-06T18:59:42.317482Z",
     "shell.execute_reply": "2023-10-06T18:59:42.316675Z"
    },
    "papermill": {
     "duration": 0.036396,
     "end_time": "2023-10-06T18:59:42.319872",
     "exception": false,
     "start_time": "2023-10-06T18:59:42.283476",
     "status": "completed"
    },
    "tags": []
   },
   "outputs": [
    {
     "data": {
      "text/html": [
       "<style>#sk-container-id-2 {color: black;background-color: white;}#sk-container-id-2 pre{padding: 0;}#sk-container-id-2 div.sk-toggleable {background-color: white;}#sk-container-id-2 label.sk-toggleable__label {cursor: pointer;display: block;width: 100%;margin-bottom: 0;padding: 0.3em;box-sizing: border-box;text-align: center;}#sk-container-id-2 label.sk-toggleable__label-arrow:before {content: \"▸\";float: left;margin-right: 0.25em;color: #696969;}#sk-container-id-2 label.sk-toggleable__label-arrow:hover:before {color: black;}#sk-container-id-2 div.sk-estimator:hover label.sk-toggleable__label-arrow:before {color: black;}#sk-container-id-2 div.sk-toggleable__content {max-height: 0;max-width: 0;overflow: hidden;text-align: left;background-color: #f0f8ff;}#sk-container-id-2 div.sk-toggleable__content pre {margin: 0.2em;color: black;border-radius: 0.25em;background-color: #f0f8ff;}#sk-container-id-2 input.sk-toggleable__control:checked~div.sk-toggleable__content {max-height: 200px;max-width: 100%;overflow: auto;}#sk-container-id-2 input.sk-toggleable__control:checked~label.sk-toggleable__label-arrow:before {content: \"▾\";}#sk-container-id-2 div.sk-estimator input.sk-toggleable__control:checked~label.sk-toggleable__label {background-color: #d4ebff;}#sk-container-id-2 div.sk-label input.sk-toggleable__control:checked~label.sk-toggleable__label {background-color: #d4ebff;}#sk-container-id-2 input.sk-hidden--visually {border: 0;clip: rect(1px 1px 1px 1px);clip: rect(1px, 1px, 1px, 1px);height: 1px;margin: -1px;overflow: hidden;padding: 0;position: absolute;width: 1px;}#sk-container-id-2 div.sk-estimator {font-family: monospace;background-color: #f0f8ff;border: 1px dotted black;border-radius: 0.25em;box-sizing: border-box;margin-bottom: 0.5em;}#sk-container-id-2 div.sk-estimator:hover {background-color: #d4ebff;}#sk-container-id-2 div.sk-parallel-item::after {content: \"\";width: 100%;border-bottom: 1px solid gray;flex-grow: 1;}#sk-container-id-2 div.sk-label:hover label.sk-toggleable__label {background-color: #d4ebff;}#sk-container-id-2 div.sk-serial::before {content: \"\";position: absolute;border-left: 1px solid gray;box-sizing: border-box;top: 0;bottom: 0;left: 50%;z-index: 0;}#sk-container-id-2 div.sk-serial {display: flex;flex-direction: column;align-items: center;background-color: white;padding-right: 0.2em;padding-left: 0.2em;position: relative;}#sk-container-id-2 div.sk-item {position: relative;z-index: 1;}#sk-container-id-2 div.sk-parallel {display: flex;align-items: stretch;justify-content: center;background-color: white;position: relative;}#sk-container-id-2 div.sk-item::before, #sk-container-id-2 div.sk-parallel-item::before {content: \"\";position: absolute;border-left: 1px solid gray;box-sizing: border-box;top: 0;bottom: 0;left: 50%;z-index: -1;}#sk-container-id-2 div.sk-parallel-item {display: flex;flex-direction: column;z-index: 1;position: relative;background-color: white;}#sk-container-id-2 div.sk-parallel-item:first-child::after {align-self: flex-end;width: 50%;}#sk-container-id-2 div.sk-parallel-item:last-child::after {align-self: flex-start;width: 50%;}#sk-container-id-2 div.sk-parallel-item:only-child::after {width: 0;}#sk-container-id-2 div.sk-dashed-wrapped {border: 1px dashed gray;margin: 0 0.4em 0.5em 0.4em;box-sizing: border-box;padding-bottom: 0.4em;background-color: white;}#sk-container-id-2 div.sk-label label {font-family: monospace;font-weight: bold;display: inline-block;line-height: 1.2em;}#sk-container-id-2 div.sk-label-container {text-align: center;}#sk-container-id-2 div.sk-container {/* jupyter's `normalize.less` sets `[hidden] { display: none; }` but bootstrap.min.css set `[hidden] { display: none !important; }` so we also need the `!important` here to be able to override the default hidden behavior on the sphinx rendered scikit-learn.org. See: https://github.com/scikit-learn/scikit-learn/issues/21755 */display: inline-block !important;position: relative;}#sk-container-id-2 div.sk-text-repr-fallback {display: none;}</style><div id=\"sk-container-id-2\" class=\"sk-top-container\"><div class=\"sk-text-repr-fallback\"><pre>RidgeClassifierCV(alphas=0.1)</pre><b>In a Jupyter environment, please rerun this cell to show the HTML representation or trust the notebook. <br />On GitHub, the HTML representation is unable to render, please try loading this page with nbviewer.org.</b></div><div class=\"sk-container\" hidden><div class=\"sk-item\"><div class=\"sk-estimator sk-toggleable\"><input class=\"sk-toggleable__control sk-hidden--visually\" id=\"sk-estimator-id-4\" type=\"checkbox\" checked><label for=\"sk-estimator-id-4\" class=\"sk-toggleable__label sk-toggleable__label-arrow\">RidgeClassifierCV</label><div class=\"sk-toggleable__content\"><pre>RidgeClassifierCV(alphas=0.1)</pre></div></div></div></div></div>"
      ],
      "text/plain": [
       "RidgeClassifierCV(alphas=0.1)"
      ]
     },
     "execution_count": 42,
     "metadata": {},
     "output_type": "execute_result"
    }
   ],
   "source": [
    "np.random.seed(42)\n",
    "best_model = RidgeClassifierCV(alphas=0.1)\n",
    "\n",
    "best_model.fit(X_train,y_train)"
   ]
  },
  {
   "cell_type": "code",
   "execution_count": 43,
   "id": "804b9252",
   "metadata": {
    "execution": {
     "iopub.execute_input": "2023-10-06T18:59:42.359490Z",
     "iopub.status.busy": "2023-10-06T18:59:42.358748Z",
     "iopub.status.idle": "2023-10-06T18:59:42.367945Z",
     "shell.execute_reply": "2023-10-06T18:59:42.367018Z"
    },
    "papermill": {
     "duration": 0.031436,
     "end_time": "2023-10-06T18:59:42.369988",
     "exception": false,
     "start_time": "2023-10-06T18:59:42.338552",
     "status": "completed"
    },
    "tags": []
   },
   "outputs": [
    {
     "data": {
      "text/plain": [
       "0.8278688524590164"
      ]
     },
     "execution_count": 43,
     "metadata": {},
     "output_type": "execute_result"
    }
   ],
   "source": [
    "# train score\n",
    "best_model.score(X_train,y_train)"
   ]
  },
  {
   "cell_type": "code",
   "execution_count": 44,
   "id": "27f0c49a",
   "metadata": {
    "execution": {
     "iopub.execute_input": "2023-10-06T18:59:42.410021Z",
     "iopub.status.busy": "2023-10-06T18:59:42.408931Z",
     "iopub.status.idle": "2023-10-06T18:59:42.419614Z",
     "shell.execute_reply": "2023-10-06T18:59:42.418493Z"
    },
    "papermill": {
     "duration": 0.032364,
     "end_time": "2023-10-06T18:59:42.421930",
     "exception": false,
     "start_time": "2023-10-06T18:59:42.389566",
     "status": "completed"
    },
    "tags": []
   },
   "outputs": [
    {
     "data": {
      "text/plain": [
       "0.806910569105691"
      ]
     },
     "execution_count": 44,
     "metadata": {},
     "output_type": "execute_result"
    }
   ],
   "source": [
    "# test score\n",
    "best_model.score(X_test,y_test)"
   ]
  },
  {
   "cell_type": "code",
   "execution_count": 45,
   "id": "55a84165",
   "metadata": {
    "execution": {
     "iopub.execute_input": "2023-10-06T18:59:42.461659Z",
     "iopub.status.busy": "2023-10-06T18:59:42.460932Z",
     "iopub.status.idle": "2023-10-06T18:59:42.472420Z",
     "shell.execute_reply": "2023-10-06T18:59:42.471136Z"
    },
    "papermill": {
     "duration": 0.033871,
     "end_time": "2023-10-06T18:59:42.474996",
     "exception": false,
     "start_time": "2023-10-06T18:59:42.441125",
     "status": "completed"
    },
    "tags": []
   },
   "outputs": [
    {
     "data": {
      "text/plain": [
       "array([1, 1, 1, 1, 1, 1, 1, 1, 1, 1, 0, 1, 1, 1, 1, 1, 1, 1, 1, 1, 1, 1,\n",
       "       1, 1, 1, 1, 1, 1, 1, 1, 1, 1, 1, 1, 1, 0, 1, 1, 1, 1, 1, 1, 1, 1,\n",
       "       1, 1, 1, 0, 0, 0, 1, 1, 0, 1, 1, 1, 1, 1, 0, 1, 0, 1, 0, 1, 1, 1,\n",
       "       1, 1, 1, 1, 0, 1, 1, 1, 0, 1, 1, 0, 0, 1, 1, 1, 1, 1, 1, 1, 1, 0,\n",
       "       1, 1, 1, 0, 0, 1, 1, 1, 1, 1, 1, 1, 1, 1, 0, 1, 1, 0, 1, 0, 1, 1,\n",
       "       1, 0, 1, 1, 1, 1, 1, 1, 1, 1, 1, 1, 1, 1, 1, 1, 1, 0, 1, 1, 0, 1,\n",
       "       1, 0, 1, 1, 1, 1, 1, 1, 1, 1, 1, 1, 1, 1, 1, 1, 1, 1, 1, 1, 0, 1,\n",
       "       1, 1, 1, 1, 0, 1, 1, 1, 1, 1, 1, 1, 1, 1, 0, 1, 0, 0, 1, 0, 1, 1,\n",
       "       1, 1, 1, 1, 1, 1, 1, 1, 0, 0, 1, 1, 1, 1, 0, 1, 0, 1, 1, 1, 1, 0,\n",
       "       0, 1, 0, 1, 1, 1, 1, 1, 0, 1, 1, 1, 0, 1, 1, 1, 1, 1, 1, 1, 1, 1,\n",
       "       1, 1, 1, 1, 1, 1, 1, 1, 1, 1, 1, 1, 1, 1, 1, 1, 1, 0, 1, 1, 1, 1,\n",
       "       1, 1, 0, 1, 1, 1, 1, 1, 1, 1, 1, 0, 1, 1, 1, 1, 1, 1, 1, 1, 1, 1,\n",
       "       1, 1, 0, 1, 1, 1, 1, 1, 1, 1, 1, 0, 0, 1, 0, 1, 1, 1, 1, 1, 1, 1,\n",
       "       0, 1, 1, 1, 1, 0, 1, 1, 1, 1, 1, 0, 1, 1, 1, 1, 1, 1, 1, 1, 1, 1,\n",
       "       1, 0, 1, 1, 1, 1, 1, 0, 1, 0, 1, 1, 1, 1, 1, 1, 1, 1, 1, 1, 1, 1,\n",
       "       1, 0, 0, 1, 1, 1, 1, 1, 1, 1, 1, 0, 1, 1, 1, 1, 1, 1, 0, 1, 1, 1,\n",
       "       1, 1, 0, 1, 1, 1, 1, 1, 0, 1, 1, 0, 1, 0, 1, 1, 1, 1, 0, 1, 1, 1,\n",
       "       1, 1, 1, 0, 1, 1, 1, 1, 0, 1, 0, 1, 1, 1, 1, 1, 1, 0, 1, 0, 1, 1,\n",
       "       0, 1, 1, 1, 1, 1, 1, 1, 1, 1, 1, 0, 1, 1, 1, 1, 1, 0, 0, 1, 0, 0,\n",
       "       1, 1, 1, 0, 1, 1, 1, 1, 1, 1, 1, 1, 1, 1, 1, 1, 1, 1, 1, 1, 1, 1,\n",
       "       1, 1, 1, 1, 1, 1, 1, 1, 1, 1, 1, 1, 1, 1, 1, 1, 1, 1, 1, 1, 1, 1,\n",
       "       1, 0, 0, 1, 1, 1, 1, 1, 1, 1, 1, 1, 1, 1, 1, 1, 1, 0, 1, 1, 1, 1,\n",
       "       1, 1, 0, 1, 1, 1, 1, 0])"
      ]
     },
     "execution_count": 45,
     "metadata": {},
     "output_type": "execute_result"
    }
   ],
   "source": [
    "y_preds = best_model.predict(X_test)\n",
    "y_preds"
   ]
  },
  {
   "cell_type": "code",
   "execution_count": 46,
   "id": "a175761f",
   "metadata": {
    "execution": {
     "iopub.execute_input": "2023-10-06T18:59:42.515435Z",
     "iopub.status.busy": "2023-10-06T18:59:42.514996Z",
     "iopub.status.idle": "2023-10-06T18:59:42.528460Z",
     "shell.execute_reply": "2023-10-06T18:59:42.526993Z"
    },
    "papermill": {
     "duration": 0.036568,
     "end_time": "2023-10-06T18:59:42.530967",
     "exception": false,
     "start_time": "2023-10-06T18:59:42.494399",
     "status": "completed"
    },
    "tags": []
   },
   "outputs": [
    {
     "name": "stdout",
     "output_type": "stream",
     "text": [
      "              precision    recall  f1-score   support\n",
      "\n",
      "           0       0.90      0.44      0.59       156\n",
      "           1       0.79      0.98      0.87       336\n",
      "\n",
      "    accuracy                           0.81       492\n",
      "   macro avg       0.84      0.71      0.73       492\n",
      "weighted avg       0.82      0.81      0.78       492\n",
      "\n"
     ]
    }
   ],
   "source": [
    "print(classification_report(y_test,y_preds))"
   ]
  },
  {
   "cell_type": "code",
   "execution_count": 47,
   "id": "02b096a0",
   "metadata": {
    "execution": {
     "iopub.execute_input": "2023-10-06T18:59:42.571309Z",
     "iopub.status.busy": "2023-10-06T18:59:42.570915Z",
     "iopub.status.idle": "2023-10-06T18:59:42.591485Z",
     "shell.execute_reply": "2023-10-06T18:59:42.590326Z"
    },
    "papermill": {
     "duration": 0.0438,
     "end_time": "2023-10-06T18:59:42.593971",
     "exception": false,
     "start_time": "2023-10-06T18:59:42.550171",
     "status": "completed"
    },
    "tags": []
   },
   "outputs": [
    {
     "data": {
      "text/html": [
       "<div>\n",
       "<style scoped>\n",
       "    .dataframe tbody tr th:only-of-type {\n",
       "        vertical-align: middle;\n",
       "    }\n",
       "\n",
       "    .dataframe tbody tr th {\n",
       "        vertical-align: top;\n",
       "    }\n",
       "\n",
       "    .dataframe thead th {\n",
       "        text-align: right;\n",
       "    }\n",
       "</style>\n",
       "<table border=\"1\" class=\"dataframe\">\n",
       "  <thead>\n",
       "    <tr style=\"text-align: right;\">\n",
       "      <th></th>\n",
       "      <th>Accuracy</th>\n",
       "      <th>F1</th>\n",
       "      <th>Recall</th>\n",
       "      <th>Precision</th>\n",
       "    </tr>\n",
       "  </thead>\n",
       "  <tbody>\n",
       "    <tr>\n",
       "      <th>Value</th>\n",
       "      <td>0.806911</td>\n",
       "      <td>0.873502</td>\n",
       "      <td>0.97619</td>\n",
       "      <td>0.790361</td>\n",
       "    </tr>\n",
       "  </tbody>\n",
       "</table>\n",
       "</div>"
      ],
      "text/plain": [
       "       Accuracy        F1   Recall  Precision\n",
       "Value  0.806911  0.873502  0.97619   0.790361"
      ]
     },
     "execution_count": 47,
     "metadata": {},
     "output_type": "execute_result"
    }
   ],
   "source": [
    "acc = accuracy_score(y_test,y_preds)\n",
    "f1 = f1_score(y_test,y_preds)\n",
    "recall = recall_score(y_test,y_preds)\n",
    "precision = precision_score(y_test,y_preds)\n",
    "\n",
    "score_metrics = pd.DataFrame({\n",
    "    'Accuracy':acc,\n",
    "    'F1':f1,\n",
    "    'Recall':recall,\n",
    "    'Precision':precision\n",
    "},index=['Value'])\n",
    "\n",
    "score_metrics"
   ]
  },
  {
   "cell_type": "code",
   "execution_count": 48,
   "id": "278fb01d",
   "metadata": {
    "execution": {
     "iopub.execute_input": "2023-10-06T18:59:42.635096Z",
     "iopub.status.busy": "2023-10-06T18:59:42.634747Z",
     "iopub.status.idle": "2023-10-06T18:59:42.925384Z",
     "shell.execute_reply": "2023-10-06T18:59:42.924181Z"
    },
    "papermill": {
     "duration": 0.314064,
     "end_time": "2023-10-06T18:59:42.927619",
     "exception": false,
     "start_time": "2023-10-06T18:59:42.613555",
     "status": "completed"
    },
    "tags": []
   },
   "outputs": [
    {
     "data": {
      "image/png": "[encoded data removed]",
      "text/plain": [
       "<Figure size 640x480 with 1 Axes>"
      ]
     },
     "metadata": {},
     "output_type": "display_data"
    }
   ],
   "source": [
    "score_metrics.T.plot(kind='bar')\n",
    "plt.title('Score Metrics');"
   ]
  },
  {
   "cell_type": "code",
   "execution_count": 49,
   "id": "904ce771",
   "metadata": {
    "execution": {
     "iopub.execute_input": "2023-10-06T18:59:42.968178Z",
     "iopub.status.busy": "2023-10-06T18:59:42.967778Z",
     "iopub.status.idle": "2023-10-06T18:59:42.976963Z",
     "shell.execute_reply": "2023-10-06T18:59:42.976188Z"
    },
    "papermill": {
     "duration": 0.031762,
     "end_time": "2023-10-06T18:59:42.978893",
     "exception": false,
     "start_time": "2023-10-06T18:59:42.947131",
     "status": "completed"
    },
    "tags": []
   },
   "outputs": [
    {
     "data": {
      "text/plain": [
       "array([[ 69,  87],\n",
       "       [  8, 328]])"
      ]
     },
     "execution_count": 49,
     "metadata": {},
     "output_type": "execute_result"
    }
   ],
   "source": [
    "conf_matrix = confusion_matrix(y_test,y_preds)\n",
    "conf_matrix"
   ]
  },
  {
   "cell_type": "code",
   "execution_count": 50,
   "id": "8a57032e",
   "metadata": {
    "execution": {
     "iopub.execute_input": "2023-10-06T18:59:43.020674Z",
     "iopub.status.busy": "2023-10-06T18:59:43.020287Z",
     "iopub.status.idle": "2023-10-06T18:59:43.295005Z",
     "shell.execute_reply": "2023-10-06T18:59:43.293914Z"
    },
    "papermill": {
     "duration": 0.298743,
     "end_time": "2023-10-06T18:59:43.297509",
     "exception": false,
     "start_time": "2023-10-06T18:59:42.998766",
     "status": "completed"
    },
    "tags": []
   },
   "outputs": [
    {
     "data": {
      "image/png": "[encoded data removed]",
      "text/plain": [
       "<Figure size 640x480 with 2 Axes>"
      ]
     },
     "metadata": {},
     "output_type": "display_data"
    }
   ],
   "source": [
    "sns.heatmap(conf_matrix,annot=True,fmt='d')\n",
    "plt.xlabel('Predicted label')\n",
    "plt.ylabel('True Label');"
   ]
  }
 ],
 "metadata": {
  "kernelspec": {
   "display_name": "Python 3",
   "language": "python",
   "name": "python3"
  },
  "language_info": {
   "codemirror_mode": {
    "name": "ipython",
    "version": 3
   },
   "file_extension": ".py",
   "mimetype": "text/x-python",
   "name": "python",
   "nbconvert_exporter": "python",
   "pygments_lexer": "ipython3",
   "version": "3.10.12"
  },
  "papermill": {
   "default_parameters": {},
   "duration": 13.151849,
   "end_time": "2023-10-06T18:59:44.037711",
   "environment_variables": {},
   "exception": null,
   "input_path": "__notebook__.ipynb",
   "output_path": "__notebook__.ipynb",
   "parameters": {},
   "start_time": "2023-10-06T18:59:30.885862",
   "version": "2.4.0"
  }
 },
 "nbformat": 4,
 "nbformat_minor": 5
}
