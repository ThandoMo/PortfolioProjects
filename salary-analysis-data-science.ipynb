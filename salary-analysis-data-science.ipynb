{
 "cells": [
  {
   "cell_type": "markdown",
   "id": "5a191888",
   "metadata": {
    "papermill": {
     "duration": 0.006914,
     "end_time": "2024-03-03T15:47:57.272480",
     "exception": false,
     "start_time": "2024-03-03T15:47:57.265566",
     "status": "completed"
    },
    "tags": []
   },
   "source": [
    "## Step 1 : Import Libraries"
   ]
  },
  {
   "cell_type": "code",
   "execution_count": 1,
   "id": "21ab7d54",
   "metadata": {
    "execution": {
     "iopub.execute_input": "2024-03-03T15:47:57.286916Z",
     "iopub.status.busy": "2024-03-03T15:47:57.285771Z",
     "iopub.status.idle": "2024-03-03T15:47:59.251751Z",
     "shell.execute_reply": "2024-03-03T15:47:59.250711Z"
    },
    "papermill": {
     "duration": 1.975333,
     "end_time": "2024-03-03T15:47:59.253930",
     "exception": false,
     "start_time": "2024-03-03T15:47:57.278597",
     "status": "completed"
    },
    "tags": []
   },
   "outputs": [],
   "source": [
    "import pandas as pd\n",
    "import numpy as np\n",
    "import seaborn as sns\n",
    "import matplotlib.pyplot as plt"
   ]
  },
  {
   "cell_type": "markdown",
   "id": "08038fef",
   "metadata": {
    "papermill": {
     "duration": 0.005602,
     "end_time": "2024-03-03T15:47:59.265610",
     "exception": false,
     "start_time": "2024-03-03T15:47:59.260008",
     "status": "completed"
    },
    "tags": []
   },
   "source": [
    "## Step 2 : Import Data"
   ]
  },
  {
   "cell_type": "code",
   "execution_count": 2,
   "id": "593f3753",
   "metadata": {
    "execution": {
     "iopub.execute_input": "2024-03-03T15:47:59.278884Z",
     "iopub.status.busy": "2024-03-03T15:47:59.278436Z",
     "iopub.status.idle": "2024-03-03T15:47:59.312542Z",
     "shell.execute_reply": "2024-03-03T15:47:59.311064Z"
    },
    "papermill": {
     "duration": 0.043457,
     "end_time": "2024-03-03T15:47:59.314856",
     "exception": false,
     "start_time": "2024-03-03T15:47:59.271399",
     "status": "completed"
    },
    "tags": []
   },
   "outputs": [],
   "source": [
    "df=pd.read_csv(\"/kaggle/input/data-science-salary-2021-to-2023/Data Science Salary 2021 to 2023.csv\")"
   ]
  },
  {
   "cell_type": "markdown",
   "id": "1fc77b1a",
   "metadata": {
    "papermill": {
     "duration": 0.005809,
     "end_time": "2024-03-03T15:47:59.326962",
     "exception": false,
     "start_time": "2024-03-03T15:47:59.321153",
     "status": "completed"
    },
    "tags": []
   },
   "source": [
    "## Step 3 : Data Overview"
   ]
  },
  {
   "cell_type": "code",
   "execution_count": 3,
   "id": "18736069",
   "metadata": {
    "execution": {
     "iopub.execute_input": "2024-03-03T15:47:59.341005Z",
     "iopub.status.busy": "2024-03-03T15:47:59.340456Z",
     "iopub.status.idle": "2024-03-03T15:47:59.359297Z",
     "shell.execute_reply": "2024-03-03T15:47:59.358060Z"
    },
    "papermill": {
     "duration": 0.027969,
     "end_time": "2024-03-03T15:47:59.361050",
     "exception": false,
     "start_time": "2024-03-03T15:47:59.333081",
     "status": "completed"
    },
    "tags": []
   },
   "outputs": [
    {
     "data": {
      "text/html": [
       "<div>\n",
       "<style scoped>\n",
       "    .dataframe tbody tr th:only-of-type {\n",
       "        vertical-align: middle;\n",
       "    }\n",
       "\n",
       "    .dataframe tbody tr th {\n",
       "        vertical-align: top;\n",
       "    }\n",
       "\n",
       "    .dataframe thead th {\n",
       "        text-align: right;\n",
       "    }\n",
       "</style>\n",
       "<table border=\"1\" class=\"dataframe\">\n",
       "  <thead>\n",
       "    <tr style=\"text-align: right;\">\n",
       "      <th></th>\n",
       "      <th>work_year</th>\n",
       "      <th>experience_level</th>\n",
       "      <th>employment_type</th>\n",
       "      <th>job_title</th>\n",
       "      <th>salary</th>\n",
       "      <th>salary_currency</th>\n",
       "      <th>salary_in_usd</th>\n",
       "      <th>company_location</th>\n",
       "      <th>company_size</th>\n",
       "    </tr>\n",
       "  </thead>\n",
       "  <tbody>\n",
       "    <tr>\n",
       "      <th>0</th>\n",
       "      <td>2023</td>\n",
       "      <td>EN</td>\n",
       "      <td>FT</td>\n",
       "      <td>Applied Scientist</td>\n",
       "      <td>213660</td>\n",
       "      <td>USD</td>\n",
       "      <td>213660</td>\n",
       "      <td>US</td>\n",
       "      <td>L</td>\n",
       "    </tr>\n",
       "    <tr>\n",
       "      <th>1</th>\n",
       "      <td>2023</td>\n",
       "      <td>EN</td>\n",
       "      <td>FT</td>\n",
       "      <td>Applied Scientist</td>\n",
       "      <td>130760</td>\n",
       "      <td>USD</td>\n",
       "      <td>130760</td>\n",
       "      <td>US</td>\n",
       "      <td>L</td>\n",
       "    </tr>\n",
       "    <tr>\n",
       "      <th>2</th>\n",
       "      <td>2023</td>\n",
       "      <td>EN</td>\n",
       "      <td>FT</td>\n",
       "      <td>Data Quality Analyst</td>\n",
       "      <td>100000</td>\n",
       "      <td>USD</td>\n",
       "      <td>100000</td>\n",
       "      <td>NG</td>\n",
       "      <td>L</td>\n",
       "    </tr>\n",
       "    <tr>\n",
       "      <th>3</th>\n",
       "      <td>2023</td>\n",
       "      <td>EN</td>\n",
       "      <td>FT</td>\n",
       "      <td>Compliance Data Analyst</td>\n",
       "      <td>30000</td>\n",
       "      <td>USD</td>\n",
       "      <td>30000</td>\n",
       "      <td>NG</td>\n",
       "      <td>L</td>\n",
       "    </tr>\n",
       "    <tr>\n",
       "      <th>4</th>\n",
       "      <td>2023</td>\n",
       "      <td>EN</td>\n",
       "      <td>FT</td>\n",
       "      <td>Applied Scientist</td>\n",
       "      <td>204620</td>\n",
       "      <td>USD</td>\n",
       "      <td>204620</td>\n",
       "      <td>US</td>\n",
       "      <td>L</td>\n",
       "    </tr>\n",
       "  </tbody>\n",
       "</table>\n",
       "</div>"
      ],
      "text/plain": [
       "   work_year experience_level employment_type                job_title  \\\n",
       "0       2023               EN              FT        Applied Scientist   \n",
       "1       2023               EN              FT        Applied Scientist   \n",
       "2       2023               EN              FT     Data Quality Analyst   \n",
       "3       2023               EN              FT  Compliance Data Analyst   \n",
       "4       2023               EN              FT        Applied Scientist   \n",
       "\n",
       "   salary salary_currency  salary_in_usd company_location company_size  \n",
       "0  213660             USD         213660               US            L  \n",
       "1  130760             USD         130760               US            L  \n",
       "2  100000             USD         100000               NG            L  \n",
       "3   30000             USD          30000               NG            L  \n",
       "4  204620             USD         204620               US            L  "
      ]
     },
     "execution_count": 3,
     "metadata": {},
     "output_type": "execute_result"
    }
   ],
   "source": [
    "df.head()"
   ]
  },
  {
   "cell_type": "code",
   "execution_count": 4,
   "id": "8c87ca6f",
   "metadata": {
    "execution": {
     "iopub.execute_input": "2024-03-03T15:47:59.375557Z",
     "iopub.status.busy": "2024-03-03T15:47:59.374733Z",
     "iopub.status.idle": "2024-03-03T15:47:59.386234Z",
     "shell.execute_reply": "2024-03-03T15:47:59.385378Z"
    },
    "papermill": {
     "duration": 0.020487,
     "end_time": "2024-03-03T15:47:59.387840",
     "exception": false,
     "start_time": "2024-03-03T15:47:59.367353",
     "status": "completed"
    },
    "tags": []
   },
   "outputs": [
    {
     "data": {
      "text/html": [
       "<div>\n",
       "<style scoped>\n",
       "    .dataframe tbody tr th:only-of-type {\n",
       "        vertical-align: middle;\n",
       "    }\n",
       "\n",
       "    .dataframe tbody tr th {\n",
       "        vertical-align: top;\n",
       "    }\n",
       "\n",
       "    .dataframe thead th {\n",
       "        text-align: right;\n",
       "    }\n",
       "</style>\n",
       "<table border=\"1\" class=\"dataframe\">\n",
       "  <thead>\n",
       "    <tr style=\"text-align: right;\">\n",
       "      <th></th>\n",
       "      <th>work_year</th>\n",
       "      <th>experience_level</th>\n",
       "      <th>employment_type</th>\n",
       "      <th>job_title</th>\n",
       "      <th>salary</th>\n",
       "      <th>salary_currency</th>\n",
       "      <th>salary_in_usd</th>\n",
       "      <th>company_location</th>\n",
       "      <th>company_size</th>\n",
       "    </tr>\n",
       "  </thead>\n",
       "  <tbody>\n",
       "    <tr>\n",
       "      <th>3756</th>\n",
       "      <td>2020</td>\n",
       "      <td>SE</td>\n",
       "      <td>FT</td>\n",
       "      <td>Principal Data Scientist</td>\n",
       "      <td>130000</td>\n",
       "      <td>EUR</td>\n",
       "      <td>148261</td>\n",
       "      <td>DE</td>\n",
       "      <td>M</td>\n",
       "    </tr>\n",
       "    <tr>\n",
       "      <th>3757</th>\n",
       "      <td>2020</td>\n",
       "      <td>SE</td>\n",
       "      <td>FT</td>\n",
       "      <td>Data Scientist</td>\n",
       "      <td>80000</td>\n",
       "      <td>EUR</td>\n",
       "      <td>91237</td>\n",
       "      <td>AT</td>\n",
       "      <td>S</td>\n",
       "    </tr>\n",
       "    <tr>\n",
       "      <th>3758</th>\n",
       "      <td>2020</td>\n",
       "      <td>SE</td>\n",
       "      <td>FT</td>\n",
       "      <td>Data Science Manager</td>\n",
       "      <td>190200</td>\n",
       "      <td>USD</td>\n",
       "      <td>190200</td>\n",
       "      <td>US</td>\n",
       "      <td>M</td>\n",
       "    </tr>\n",
       "    <tr>\n",
       "      <th>3759</th>\n",
       "      <td>2020</td>\n",
       "      <td>SE</td>\n",
       "      <td>FT</td>\n",
       "      <td>Machine Learning Engineer</td>\n",
       "      <td>40000</td>\n",
       "      <td>EUR</td>\n",
       "      <td>45618</td>\n",
       "      <td>HR</td>\n",
       "      <td>S</td>\n",
       "    </tr>\n",
       "    <tr>\n",
       "      <th>3760</th>\n",
       "      <td>2020</td>\n",
       "      <td>SE</td>\n",
       "      <td>FT</td>\n",
       "      <td>Data Scientist</td>\n",
       "      <td>412000</td>\n",
       "      <td>USD</td>\n",
       "      <td>412000</td>\n",
       "      <td>US</td>\n",
       "      <td>L</td>\n",
       "    </tr>\n",
       "  </tbody>\n",
       "</table>\n",
       "</div>"
      ],
      "text/plain": [
       "      work_year experience_level employment_type                  job_title  \\\n",
       "3756       2020               SE              FT   Principal Data Scientist   \n",
       "3757       2020               SE              FT             Data Scientist   \n",
       "3758       2020               SE              FT       Data Science Manager   \n",
       "3759       2020               SE              FT  Machine Learning Engineer   \n",
       "3760       2020               SE              FT             Data Scientist   \n",
       "\n",
       "      salary salary_currency  salary_in_usd company_location company_size  \n",
       "3756  130000             EUR         148261               DE            M  \n",
       "3757   80000             EUR          91237               AT            S  \n",
       "3758  190200             USD         190200               US            M  \n",
       "3759   40000             EUR          45618               HR            S  \n",
       "3760  412000             USD         412000               US            L  "
      ]
     },
     "execution_count": 4,
     "metadata": {},
     "output_type": "execute_result"
    }
   ],
   "source": [
    "df.tail()"
   ]
  },
  {
   "cell_type": "code",
   "execution_count": 5,
   "id": "37474559",
   "metadata": {
    "execution": {
     "iopub.execute_input": "2024-03-03T15:47:59.403800Z",
     "iopub.status.busy": "2024-03-03T15:47:59.403256Z",
     "iopub.status.idle": "2024-03-03T15:47:59.421387Z",
     "shell.execute_reply": "2024-03-03T15:47:59.420601Z"
    },
    "papermill": {
     "duration": 0.028649,
     "end_time": "2024-03-03T15:47:59.423267",
     "exception": false,
     "start_time": "2024-03-03T15:47:59.394618",
     "status": "completed"
    },
    "tags": []
   },
   "outputs": [
    {
     "data": {
      "text/html": [
       "<div>\n",
       "<style scoped>\n",
       "    .dataframe tbody tr th:only-of-type {\n",
       "        vertical-align: middle;\n",
       "    }\n",
       "\n",
       "    .dataframe tbody tr th {\n",
       "        vertical-align: top;\n",
       "    }\n",
       "\n",
       "    .dataframe thead th {\n",
       "        text-align: right;\n",
       "    }\n",
       "</style>\n",
       "<table border=\"1\" class=\"dataframe\">\n",
       "  <thead>\n",
       "    <tr style=\"text-align: right;\">\n",
       "      <th></th>\n",
       "      <th>work_year</th>\n",
       "      <th>experience_level</th>\n",
       "      <th>employment_type</th>\n",
       "      <th>job_title</th>\n",
       "      <th>salary</th>\n",
       "      <th>salary_currency</th>\n",
       "      <th>salary_in_usd</th>\n",
       "      <th>company_location</th>\n",
       "      <th>company_size</th>\n",
       "    </tr>\n",
       "  </thead>\n",
       "  <tbody>\n",
       "    <tr>\n",
       "      <th>1985</th>\n",
       "      <td>2022</td>\n",
       "      <td>MI</td>\n",
       "      <td>FT</td>\n",
       "      <td>Data Engineer</td>\n",
       "      <td>70000</td>\n",
       "      <td>USD</td>\n",
       "      <td>70000</td>\n",
       "      <td>US</td>\n",
       "      <td>M</td>\n",
       "    </tr>\n",
       "    <tr>\n",
       "      <th>1058</th>\n",
       "      <td>2023</td>\n",
       "      <td>SE</td>\n",
       "      <td>FT</td>\n",
       "      <td>Data Science Manager</td>\n",
       "      <td>299500</td>\n",
       "      <td>USD</td>\n",
       "      <td>299500</td>\n",
       "      <td>US</td>\n",
       "      <td>M</td>\n",
       "    </tr>\n",
       "    <tr>\n",
       "      <th>478</th>\n",
       "      <td>2023</td>\n",
       "      <td>MI</td>\n",
       "      <td>FT</td>\n",
       "      <td>Machine Learning Engineer</td>\n",
       "      <td>219000</td>\n",
       "      <td>USD</td>\n",
       "      <td>219000</td>\n",
       "      <td>US</td>\n",
       "      <td>L</td>\n",
       "    </tr>\n",
       "    <tr>\n",
       "      <th>615</th>\n",
       "      <td>2023</td>\n",
       "      <td>SE</td>\n",
       "      <td>FT</td>\n",
       "      <td>Machine Learning Engineer</td>\n",
       "      <td>212200</td>\n",
       "      <td>USD</td>\n",
       "      <td>212200</td>\n",
       "      <td>US</td>\n",
       "      <td>M</td>\n",
       "    </tr>\n",
       "    <tr>\n",
       "      <th>2150</th>\n",
       "      <td>2022</td>\n",
       "      <td>MI</td>\n",
       "      <td>FT</td>\n",
       "      <td>Data Engineer</td>\n",
       "      <td>65000</td>\n",
       "      <td>GBP</td>\n",
       "      <td>80036</td>\n",
       "      <td>GB</td>\n",
       "      <td>M</td>\n",
       "    </tr>\n",
       "    <tr>\n",
       "      <th>3097</th>\n",
       "      <td>2022</td>\n",
       "      <td>SE</td>\n",
       "      <td>FT</td>\n",
       "      <td>Data Scientist</td>\n",
       "      <td>191475</td>\n",
       "      <td>USD</td>\n",
       "      <td>191475</td>\n",
       "      <td>US</td>\n",
       "      <td>M</td>\n",
       "    </tr>\n",
       "    <tr>\n",
       "      <th>2087</th>\n",
       "      <td>2022</td>\n",
       "      <td>MI</td>\n",
       "      <td>FT</td>\n",
       "      <td>Data Analyst</td>\n",
       "      <td>100000</td>\n",
       "      <td>USD</td>\n",
       "      <td>100000</td>\n",
       "      <td>US</td>\n",
       "      <td>M</td>\n",
       "    </tr>\n",
       "    <tr>\n",
       "      <th>549</th>\n",
       "      <td>2023</td>\n",
       "      <td>SE</td>\n",
       "      <td>FT</td>\n",
       "      <td>Data Engineer</td>\n",
       "      <td>238000</td>\n",
       "      <td>USD</td>\n",
       "      <td>238000</td>\n",
       "      <td>US</td>\n",
       "      <td>M</td>\n",
       "    </tr>\n",
       "    <tr>\n",
       "      <th>502</th>\n",
       "      <td>2023</td>\n",
       "      <td>SE</td>\n",
       "      <td>FT</td>\n",
       "      <td>Principal Data Scientist</td>\n",
       "      <td>80000</td>\n",
       "      <td>EUR</td>\n",
       "      <td>85847</td>\n",
       "      <td>ES</td>\n",
       "      <td>L</td>\n",
       "    </tr>\n",
       "    <tr>\n",
       "      <th>3472</th>\n",
       "      <td>2021</td>\n",
       "      <td>EN</td>\n",
       "      <td>FT</td>\n",
       "      <td>BI Data Analyst</td>\n",
       "      <td>55000</td>\n",
       "      <td>USD</td>\n",
       "      <td>55000</td>\n",
       "      <td>US</td>\n",
       "      <td>S</td>\n",
       "    </tr>\n",
       "  </tbody>\n",
       "</table>\n",
       "</div>"
      ],
      "text/plain": [
       "      work_year experience_level employment_type                  job_title  \\\n",
       "1985       2022               MI              FT              Data Engineer   \n",
       "1058       2023               SE              FT       Data Science Manager   \n",
       "478        2023               MI              FT  Machine Learning Engineer   \n",
       "615        2023               SE              FT  Machine Learning Engineer   \n",
       "2150       2022               MI              FT              Data Engineer   \n",
       "3097       2022               SE              FT             Data Scientist   \n",
       "2087       2022               MI              FT               Data Analyst   \n",
       "549        2023               SE              FT              Data Engineer   \n",
       "502        2023               SE              FT   Principal Data Scientist   \n",
       "3472       2021               EN              FT            BI Data Analyst   \n",
       "\n",
       "      salary salary_currency  salary_in_usd company_location company_size  \n",
       "1985   70000             USD          70000               US            M  \n",
       "1058  299500             USD         299500               US            M  \n",
       "478   219000             USD         219000               US            L  \n",
       "615   212200             USD         212200               US            M  \n",
       "2150   65000             GBP          80036               GB            M  \n",
       "3097  191475             USD         191475               US            M  \n",
       "2087  100000             USD         100000               US            M  \n",
       "549   238000             USD         238000               US            M  \n",
       "502    80000             EUR          85847               ES            L  \n",
       "3472   55000             USD          55000               US            S  "
      ]
     },
     "execution_count": 5,
     "metadata": {},
     "output_type": "execute_result"
    }
   ],
   "source": [
    "df.sample(10)"
   ]
  },
  {
   "cell_type": "markdown",
   "id": "e91ec3a3",
   "metadata": {
    "papermill": {
     "duration": 0.006297,
     "end_time": "2024-03-03T15:47:59.436246",
     "exception": false,
     "start_time": "2024-03-03T15:47:59.429949",
     "status": "completed"
    },
    "tags": []
   },
   "source": [
    "## Step 4 : Basic Data Exploration"
   ]
  },
  {
   "cell_type": "code",
   "execution_count": 6,
   "id": "98a59349",
   "metadata": {
    "execution": {
     "iopub.execute_input": "2024-03-03T15:47:59.451453Z",
     "iopub.status.busy": "2024-03-03T15:47:59.450588Z",
     "iopub.status.idle": "2024-03-03T15:47:59.475628Z",
     "shell.execute_reply": "2024-03-03T15:47:59.474385Z"
    },
    "papermill": {
     "duration": 0.034494,
     "end_time": "2024-03-03T15:47:59.477408",
     "exception": false,
     "start_time": "2024-03-03T15:47:59.442914",
     "status": "completed"
    },
    "tags": []
   },
   "outputs": [
    {
     "name": "stdout",
     "output_type": "stream",
     "text": [
      "<class 'pandas.core.frame.DataFrame'>\n",
      "RangeIndex: 3761 entries, 0 to 3760\n",
      "Data columns (total 9 columns):\n",
      " #   Column            Non-Null Count  Dtype \n",
      "---  ------            --------------  ----- \n",
      " 0   work_year         3761 non-null   int64 \n",
      " 1   experience_level  3761 non-null   object\n",
      " 2   employment_type   3761 non-null   object\n",
      " 3   job_title         3761 non-null   object\n",
      " 4   salary            3761 non-null   int64 \n",
      " 5   salary_currency   3761 non-null   object\n",
      " 6   salary_in_usd     3761 non-null   int64 \n",
      " 7   company_location  3761 non-null   object\n",
      " 8   company_size      3761 non-null   object\n",
      "dtypes: int64(3), object(6)\n",
      "memory usage: 264.6+ KB\n"
     ]
    }
   ],
   "source": [
    "df.info()"
   ]
  },
  {
   "cell_type": "code",
   "execution_count": 7,
   "id": "c3d90fd9",
   "metadata": {
    "execution": {
     "iopub.execute_input": "2024-03-03T15:47:59.493692Z",
     "iopub.status.busy": "2024-03-03T15:47:59.492678Z",
     "iopub.status.idle": "2024-03-03T15:47:59.499426Z",
     "shell.execute_reply": "2024-03-03T15:47:59.497970Z"
    },
    "papermill": {
     "duration": 0.017185,
     "end_time": "2024-03-03T15:47:59.501525",
     "exception": false,
     "start_time": "2024-03-03T15:47:59.484340",
     "status": "completed"
    },
    "tags": []
   },
   "outputs": [
    {
     "data": {
      "text/plain": [
       "(3761, 9)"
      ]
     },
     "execution_count": 7,
     "metadata": {},
     "output_type": "execute_result"
    }
   ],
   "source": [
    "df.shape"
   ]
  },
  {
   "cell_type": "code",
   "execution_count": 8,
   "id": "c94b0d14",
   "metadata": {
    "execution": {
     "iopub.execute_input": "2024-03-03T15:47:59.517005Z",
     "iopub.status.busy": "2024-03-03T15:47:59.516683Z",
     "iopub.status.idle": "2024-03-03T15:47:59.538703Z",
     "shell.execute_reply": "2024-03-03T15:47:59.537423Z"
    },
    "papermill": {
     "duration": 0.031954,
     "end_time": "2024-03-03T15:47:59.540614",
     "exception": false,
     "start_time": "2024-03-03T15:47:59.508660",
     "status": "completed"
    },
    "tags": []
   },
   "outputs": [
    {
     "data": {
      "text/html": [
       "<div>\n",
       "<style scoped>\n",
       "    .dataframe tbody tr th:only-of-type {\n",
       "        vertical-align: middle;\n",
       "    }\n",
       "\n",
       "    .dataframe tbody tr th {\n",
       "        vertical-align: top;\n",
       "    }\n",
       "\n",
       "    .dataframe thead th {\n",
       "        text-align: right;\n",
       "    }\n",
       "</style>\n",
       "<table border=\"1\" class=\"dataframe\">\n",
       "  <thead>\n",
       "    <tr style=\"text-align: right;\">\n",
       "      <th></th>\n",
       "      <th>work_year</th>\n",
       "      <th>salary</th>\n",
       "      <th>salary_in_usd</th>\n",
       "    </tr>\n",
       "  </thead>\n",
       "  <tbody>\n",
       "    <tr>\n",
       "      <th>count</th>\n",
       "      <td>3761.000000</td>\n",
       "      <td>3.761000e+03</td>\n",
       "      <td>3761.000000</td>\n",
       "    </tr>\n",
       "    <tr>\n",
       "      <th>mean</th>\n",
       "      <td>2022.374103</td>\n",
       "      <td>1.905999e+05</td>\n",
       "      <td>137555.178942</td>\n",
       "    </tr>\n",
       "    <tr>\n",
       "      <th>std</th>\n",
       "      <td>0.691252</td>\n",
       "      <td>6.711457e+05</td>\n",
       "      <td>63022.267974</td>\n",
       "    </tr>\n",
       "    <tr>\n",
       "      <th>min</th>\n",
       "      <td>2020.000000</td>\n",
       "      <td>6.000000e+03</td>\n",
       "      <td>5132.000000</td>\n",
       "    </tr>\n",
       "    <tr>\n",
       "      <th>25%</th>\n",
       "      <td>2022.000000</td>\n",
       "      <td>1.000000e+05</td>\n",
       "      <td>95000.000000</td>\n",
       "    </tr>\n",
       "    <tr>\n",
       "      <th>50%</th>\n",
       "      <td>2022.000000</td>\n",
       "      <td>1.375000e+05</td>\n",
       "      <td>135000.000000</td>\n",
       "    </tr>\n",
       "    <tr>\n",
       "      <th>75%</th>\n",
       "      <td>2023.000000</td>\n",
       "      <td>1.800000e+05</td>\n",
       "      <td>175000.000000</td>\n",
       "    </tr>\n",
       "    <tr>\n",
       "      <th>max</th>\n",
       "      <td>2023.000000</td>\n",
       "      <td>3.040000e+07</td>\n",
       "      <td>450000.000000</td>\n",
       "    </tr>\n",
       "  </tbody>\n",
       "</table>\n",
       "</div>"
      ],
      "text/plain": [
       "         work_year        salary  salary_in_usd\n",
       "count  3761.000000  3.761000e+03    3761.000000\n",
       "mean   2022.374103  1.905999e+05  137555.178942\n",
       "std       0.691252  6.711457e+05   63022.267974\n",
       "min    2020.000000  6.000000e+03    5132.000000\n",
       "25%    2022.000000  1.000000e+05   95000.000000\n",
       "50%    2022.000000  1.375000e+05  135000.000000\n",
       "75%    2023.000000  1.800000e+05  175000.000000\n",
       "max    2023.000000  3.040000e+07  450000.000000"
      ]
     },
     "execution_count": 8,
     "metadata": {},
     "output_type": "execute_result"
    }
   ],
   "source": [
    "df.describe()"
   ]
  },
  {
   "cell_type": "markdown",
   "id": "b5e2727c",
   "metadata": {
    "papermill": {
     "duration": 0.006689,
     "end_time": "2024-03-03T15:47:59.555345",
     "exception": false,
     "start_time": "2024-03-03T15:47:59.548656",
     "status": "completed"
    },
    "tags": []
   },
   "source": [
    "#### Check missing values"
   ]
  },
  {
   "cell_type": "code",
   "execution_count": 9,
   "id": "a8c4705c",
   "metadata": {
    "execution": {
     "iopub.execute_input": "2024-03-03T15:47:59.573082Z",
     "iopub.status.busy": "2024-03-03T15:47:59.572441Z",
     "iopub.status.idle": "2024-03-03T15:47:59.580310Z",
     "shell.execute_reply": "2024-03-03T15:47:59.579178Z"
    },
    "papermill": {
     "duration": 0.019822,
     "end_time": "2024-03-03T15:47:59.581957",
     "exception": false,
     "start_time": "2024-03-03T15:47:59.562135",
     "status": "completed"
    },
    "tags": []
   },
   "outputs": [
    {
     "data": {
      "text/plain": [
       "work_year           0\n",
       "experience_level    0\n",
       "employment_type     0\n",
       "job_title           0\n",
       "salary              0\n",
       "salary_currency     0\n",
       "salary_in_usd       0\n",
       "company_location    0\n",
       "company_size        0\n",
       "dtype: int64"
      ]
     },
     "execution_count": 9,
     "metadata": {},
     "output_type": "execute_result"
    }
   ],
   "source": [
    "df.isnull().sum()"
   ]
  },
  {
   "cell_type": "markdown",
   "id": "49a76be8",
   "metadata": {
    "papermill": {
     "duration": 0.006587,
     "end_time": "2024-03-03T15:47:59.595777",
     "exception": false,
     "start_time": "2024-03-03T15:47:59.589190",
     "status": "completed"
    },
    "tags": []
   },
   "source": [
    "#### Check duplicated"
   ]
  },
  {
   "cell_type": "code",
   "execution_count": 10,
   "id": "cac49ead",
   "metadata": {
    "execution": {
     "iopub.execute_input": "2024-03-03T15:47:59.611250Z",
     "iopub.status.busy": "2024-03-03T15:47:59.610612Z",
     "iopub.status.idle": "2024-03-03T15:47:59.618362Z",
     "shell.execute_reply": "2024-03-03T15:47:59.617782Z"
    },
    "papermill": {
     "duration": 0.017112,
     "end_time": "2024-03-03T15:47:59.619838",
     "exception": false,
     "start_time": "2024-03-03T15:47:59.602726",
     "status": "completed"
    },
    "tags": []
   },
   "outputs": [
    {
     "data": {
      "text/plain": [
       "1351"
      ]
     },
     "execution_count": 10,
     "metadata": {},
     "output_type": "execute_result"
    }
   ],
   "source": [
    "df.duplicated().sum()"
   ]
  },
  {
   "cell_type": "code",
   "execution_count": 11,
   "id": "804b61ad",
   "metadata": {
    "execution": {
     "iopub.execute_input": "2024-03-03T15:47:59.635751Z",
     "iopub.status.busy": "2024-03-03T15:47:59.635257Z",
     "iopub.status.idle": "2024-03-03T15:47:59.645120Z",
     "shell.execute_reply": "2024-03-03T15:47:59.644469Z"
    },
    "papermill": {
     "duration": 0.019807,
     "end_time": "2024-03-03T15:47:59.646818",
     "exception": false,
     "start_time": "2024-03-03T15:47:59.627011",
     "status": "completed"
    },
    "tags": []
   },
   "outputs": [
    {
     "data": {
      "text/plain": [
       "0"
      ]
     },
     "execution_count": 11,
     "metadata": {},
     "output_type": "execute_result"
    }
   ],
   "source": [
    "df=df.drop_duplicates()\n",
    "df.duplicated().sum()"
   ]
  },
  {
   "cell_type": "markdown",
   "id": "a786aca5",
   "metadata": {
    "papermill": {
     "duration": 0.007082,
     "end_time": "2024-03-03T15:47:59.661483",
     "exception": false,
     "start_time": "2024-03-03T15:47:59.654401",
     "status": "completed"
    },
    "tags": []
   },
   "source": [
    "## Conclusion\n",
    "\n",
    "In conclusion, our basic data exploration revealed the following key findings:\n",
    "\n",
    "1.**Data Types:** The data types of our dataset are accurate and appropriate for our analysis, indicating that the data is well-structured.\n",
    "\n",
    "2.**Missing Values:** We found no missing values in our dataset. This suggests that our data is complete and ready for analysis without the need for imputation.\n",
    "\n",
    "3.**Duplicate Entries:** Initially, there were 1351 duplicate entries in the dataset. However, we have successfully removed these duplicate rows, ensuring data integrity for our analysis.\n",
    "\n",
    "**These observations assure us that our dataset is in good shape and suitable for further analysis and insights.**"
   ]
  },
  {
   "cell_type": "markdown",
   "id": "e3a577a7",
   "metadata": {
    "papermill": {
     "duration": 0.006961,
     "end_time": "2024-03-03T15:47:59.675821",
     "exception": false,
     "start_time": "2024-03-03T15:47:59.668860",
     "status": "completed"
    },
    "tags": []
   },
   "source": [
    "##### Checking Unique Values in Selected Columns\n",
    "In this step, we will examine the unique values in certain columns, such as:\n",
    "\n",
    "1. **Experience Level**\n",
    "2. **Employment Type**\n",
    "3. **Company Size**\n",
    "\n",
    "The purpose of this step is to identify values that may need to be replaced with more appropriate and standardized terms."
   ]
  },
  {
   "cell_type": "code",
   "execution_count": 12,
   "id": "0b622142",
   "metadata": {
    "execution": {
     "iopub.execute_input": "2024-03-03T15:47:59.692220Z",
     "iopub.status.busy": "2024-03-03T15:47:59.691876Z",
     "iopub.status.idle": "2024-03-03T15:47:59.698069Z",
     "shell.execute_reply": "2024-03-03T15:47:59.697063Z"
    },
    "papermill": {
     "duration": 0.016877,
     "end_time": "2024-03-03T15:47:59.699955",
     "exception": false,
     "start_time": "2024-03-03T15:47:59.683078",
     "status": "completed"
    },
    "tags": []
   },
   "outputs": [
    {
     "name": "stdout",
     "output_type": "stream",
     "text": [
      "Unique Experience Levels: ['EN' 'EX' 'MI' 'SE']\n",
      "Unique Employment Types: ['FT' 'PT' 'CT' 'FL']\n",
      "Unique Company Sizes: ['L' 'M' 'S']\n"
     ]
    }
   ],
   "source": [
    "unique_experience_levels = df['experience_level'].unique()\n",
    "unique_employment_types = df['employment_type'].unique()\n",
    "unique_company_sizes = df['company_size'].unique()\n",
    "\n",
    "print(\"Unique Experience Levels:\" , unique_experience_levels)\n",
    "print(\"Unique Employment Types:\" , unique_employment_types)\n",
    "print(\"Unique Company Sizes:\" , unique_company_sizes)"
   ]
  },
  {
   "cell_type": "code",
   "execution_count": 13,
   "id": "15f7a8ec",
   "metadata": {
    "execution": {
     "iopub.execute_input": "2024-03-03T15:47:59.716964Z",
     "iopub.status.busy": "2024-03-03T15:47:59.716104Z",
     "iopub.status.idle": "2024-03-03T15:47:59.725666Z",
     "shell.execute_reply": "2024-03-03T15:47:59.724688Z"
    },
    "papermill": {
     "duration": 0.020124,
     "end_time": "2024-03-03T15:47:59.727633",
     "exception": false,
     "start_time": "2024-03-03T15:47:59.707509",
     "status": "completed"
    },
    "tags": []
   },
   "outputs": [],
   "source": [
    "df.loc[:, 'experience_level'] = df['experience_level'].replace({'EN': 'Entry Level', 'EX': 'Experienced', 'MI': 'Mid-Level', 'SE': 'Senior'})\n",
    "df.loc[:, 'employment_type'] = df['employment_type'].replace({'FT': 'Full time', 'PT': 'Part time', 'CT': 'Contractor', 'FL': 'Freelancer'})\n",
    "df.loc[:, 'company_size'] = df['company_size'].replace({'L': 'Large', 'M': 'Medium', 'S': 'Small'})\n"
   ]
  },
  {
   "cell_type": "markdown",
   "id": "8f89b6a5",
   "metadata": {
    "papermill": {
     "duration": 0.007021,
     "end_time": "2024-03-03T15:47:59.742361",
     "exception": false,
     "start_time": "2024-03-03T15:47:59.735340",
     "status": "completed"
    },
    "tags": []
   },
   "source": [
    "### Step 5: Exploratory Data Analysis"
   ]
  },
  {
   "cell_type": "code",
   "execution_count": 14,
   "id": "7890dd32",
   "metadata": {
    "execution": {
     "iopub.execute_input": "2024-03-03T15:47:59.759110Z",
     "iopub.status.busy": "2024-03-03T15:47:59.758193Z",
     "iopub.status.idle": "2024-03-03T15:48:00.039153Z",
     "shell.execute_reply": "2024-03-03T15:48:00.038328Z"
    },
    "papermill": {
     "duration": 0.291298,
     "end_time": "2024-03-03T15:48:00.040970",
     "exception": false,
     "start_time": "2024-03-03T15:47:59.749672",
     "status": "completed"
    },
    "tags": []
   },
   "outputs": [
    {
     "data": {
      "text/plain": [
       "<Axes: xlabel='experience_level'>"
      ]
     },
     "execution_count": 14,
     "metadata": {},
     "output_type": "execute_result"
    },
    {
     "data": {
      "image/png": "[encoded data removed]",
      "text/plain": [
       "<Figure size 640x480 with 1 Axes>"
      ]
     },
     "metadata": {},
     "output_type": "display_data"
    }
   ],
   "source": [
    "df[\"experience_level\"].value_counts().plot(kind=\"bar\")"
   ]
  },
  {
   "cell_type": "code",
   "execution_count": 15,
   "id": "0a926558",
   "metadata": {
    "execution": {
     "iopub.execute_input": "2024-03-03T15:48:00.058232Z",
     "iopub.status.busy": "2024-03-03T15:48:00.057381Z",
     "iopub.status.idle": "2024-03-03T15:48:00.222484Z",
     "shell.execute_reply": "2024-03-03T15:48:00.221270Z"
    },
    "papermill": {
     "duration": 0.176052,
     "end_time": "2024-03-03T15:48:00.224865",
     "exception": false,
     "start_time": "2024-03-03T15:48:00.048813",
     "status": "completed"
    },
    "tags": []
   },
   "outputs": [
    {
     "data": {
      "text/plain": [
       "<Axes: xlabel='employment_type'>"
      ]
     },
     "execution_count": 15,
     "metadata": {},
     "output_type": "execute_result"
    },
    {
     "data": {
      "image/png": "[encoded data removed]",
      "text/plain": [
       "<Figure size 640x480 with 1 Axes>"
      ]
     },
     "metadata": {},
     "output_type": "display_data"
    }
   ],
   "source": [
    "df[\"employment_type\"].value_counts().plot(kind=\"bar\")"
   ]
  },
  {
   "cell_type": "code",
   "execution_count": 16,
   "id": "658640b1",
   "metadata": {
    "execution": {
     "iopub.execute_input": "2024-03-03T15:48:00.242819Z",
     "iopub.status.busy": "2024-03-03T15:48:00.242481Z",
     "iopub.status.idle": "2024-03-03T15:48:00.414127Z",
     "shell.execute_reply": "2024-03-03T15:48:00.413083Z"
    },
    "papermill": {
     "duration": 0.18332,
     "end_time": "2024-03-03T15:48:00.416552",
     "exception": false,
     "start_time": "2024-03-03T15:48:00.233232",
     "status": "completed"
    },
    "tags": []
   },
   "outputs": [
    {
     "data": {
      "text/plain": [
       "<Axes: xlabel='company_size'>"
      ]
     },
     "execution_count": 16,
     "metadata": {},
     "output_type": "execute_result"
    },
    {
     "data": {
      "image/png": "[encoded data removed]",
      "text/plain": [
       "<Figure size 640x480 with 1 Axes>"
      ]
     },
     "metadata": {},
     "output_type": "display_data"
    }
   ],
   "source": [
    "df[\"company_size\"].value_counts().plot(kind=\"bar\")"
   ]
  },
  {
   "cell_type": "code",
   "execution_count": 17,
   "id": "e8576730",
   "metadata": {
    "execution": {
     "iopub.execute_input": "2024-03-03T15:48:00.435075Z",
     "iopub.status.busy": "2024-03-03T15:48:00.434731Z",
     "iopub.status.idle": "2024-03-03T15:48:00.603980Z",
     "shell.execute_reply": "2024-03-03T15:48:00.603147Z"
    },
    "papermill": {
     "duration": 0.180858,
     "end_time": "2024-03-03T15:48:00.606077",
     "exception": false,
     "start_time": "2024-03-03T15:48:00.425219",
     "status": "completed"
    },
    "tags": []
   },
   "outputs": [
    {
     "data": {
      "image/png": "[encoded data removed]",
      "text/plain": [
       "<Figure size 640x480 with 1 Axes>"
      ]
     },
     "metadata": {},
     "output_type": "display_data"
    }
   ],
   "source": [
    "df[\"salary_in_usd\"].plot(kind='hist')\n",
    "plt.show()"
   ]
  },
  {
   "cell_type": "code",
   "execution_count": 18,
   "id": "ee1fc37c",
   "metadata": {
    "execution": {
     "iopub.execute_input": "2024-03-03T15:48:00.626186Z",
     "iopub.status.busy": "2024-03-03T15:48:00.625456Z",
     "iopub.status.idle": "2024-03-03T15:48:00.642728Z",
     "shell.execute_reply": "2024-03-03T15:48:00.641561Z"
    },
    "papermill": {
     "duration": 0.029248,
     "end_time": "2024-03-03T15:48:00.644641",
     "exception": false,
     "start_time": "2024-03-03T15:48:00.615393",
     "status": "completed"
    },
    "tags": []
   },
   "outputs": [
    {
     "data": {
      "text/html": [
       "<div>\n",
       "<style scoped>\n",
       "    .dataframe tbody tr th:only-of-type {\n",
       "        vertical-align: middle;\n",
       "    }\n",
       "\n",
       "    .dataframe tbody tr th {\n",
       "        vertical-align: top;\n",
       "    }\n",
       "\n",
       "    .dataframe thead th {\n",
       "        text-align: right;\n",
       "    }\n",
       "</style>\n",
       "<table border=\"1\" class=\"dataframe\">\n",
       "  <thead>\n",
       "    <tr style=\"text-align: right;\">\n",
       "      <th></th>\n",
       "      <th>experience_level</th>\n",
       "      <th>employment_type</th>\n",
       "      <th>salary_in_usd</th>\n",
       "    </tr>\n",
       "  </thead>\n",
       "  <tbody>\n",
       "    <tr>\n",
       "      <th>4</th>\n",
       "      <td>Experienced</td>\n",
       "      <td>Contractor</td>\n",
       "      <td>416000.000000</td>\n",
       "    </tr>\n",
       "    <tr>\n",
       "      <th>5</th>\n",
       "      <td>Experienced</td>\n",
       "      <td>Full time</td>\n",
       "      <td>188590.510638</td>\n",
       "    </tr>\n",
       "    <tr>\n",
       "      <th>12</th>\n",
       "      <td>Senior</td>\n",
       "      <td>Full time</td>\n",
       "      <td>154738.293909</td>\n",
       "    </tr>\n",
       "    <tr>\n",
       "      <th>8</th>\n",
       "      <td>Mid-Level</td>\n",
       "      <td>Full time</td>\n",
       "      <td>101988.559871</td>\n",
       "    </tr>\n",
       "    <tr>\n",
       "      <th>10</th>\n",
       "      <td>Senior</td>\n",
       "      <td>Contractor</td>\n",
       "      <td>97500.000000</td>\n",
       "    </tr>\n",
       "    <tr>\n",
       "      <th>6</th>\n",
       "      <td>Mid-Level</td>\n",
       "      <td>Contractor</td>\n",
       "      <td>78600.000000</td>\n",
       "    </tr>\n",
       "    <tr>\n",
       "      <th>1</th>\n",
       "      <td>Entry Level</td>\n",
       "      <td>Freelancer</td>\n",
       "      <td>75000.000000</td>\n",
       "    </tr>\n",
       "    <tr>\n",
       "      <th>2</th>\n",
       "      <td>Entry Level</td>\n",
       "      <td>Full time</td>\n",
       "      <td>74479.060241</td>\n",
       "    </tr>\n",
       "    <tr>\n",
       "      <th>0</th>\n",
       "      <td>Entry Level</td>\n",
       "      <td>Contractor</td>\n",
       "      <td>65234.500000</td>\n",
       "    </tr>\n",
       "    <tr>\n",
       "      <th>11</th>\n",
       "      <td>Senior</td>\n",
       "      <td>Freelancer</td>\n",
       "      <td>53333.333333</td>\n",
       "    </tr>\n",
       "    <tr>\n",
       "      <th>9</th>\n",
       "      <td>Mid-Level</td>\n",
       "      <td>Part time</td>\n",
       "      <td>42561.000000</td>\n",
       "    </tr>\n",
       "    <tr>\n",
       "      <th>7</th>\n",
       "      <td>Mid-Level</td>\n",
       "      <td>Freelancer</td>\n",
       "      <td>41615.600000</td>\n",
       "    </tr>\n",
       "    <tr>\n",
       "      <th>3</th>\n",
       "      <td>Entry Level</td>\n",
       "      <td>Part time</td>\n",
       "      <td>38885.000000</td>\n",
       "    </tr>\n",
       "  </tbody>\n",
       "</table>\n",
       "</div>"
      ],
      "text/plain": [
       "   experience_level employment_type  salary_in_usd\n",
       "4       Experienced      Contractor  416000.000000\n",
       "5       Experienced       Full time  188590.510638\n",
       "12           Senior       Full time  154738.293909\n",
       "8         Mid-Level       Full time  101988.559871\n",
       "10           Senior      Contractor   97500.000000\n",
       "6         Mid-Level      Contractor   78600.000000\n",
       "1       Entry Level      Freelancer   75000.000000\n",
       "2       Entry Level       Full time   74479.060241\n",
       "0       Entry Level      Contractor   65234.500000\n",
       "11           Senior      Freelancer   53333.333333\n",
       "9         Mid-Level       Part time   42561.000000\n",
       "7         Mid-Level      Freelancer   41615.600000\n",
       "3       Entry Level       Part time   38885.000000"
      ]
     },
     "execution_count": 18,
     "metadata": {},
     "output_type": "execute_result"
    }
   ],
   "source": [
    "average_salary = df.groupby([\"experience_level\", \"employment_type\"])[\"salary_in_usd\"].mean().reset_index().sort_values(by='salary_in_usd', ascending=False)\n",
    "average_salary"
   ]
  },
  {
   "cell_type": "code",
   "execution_count": 19,
   "id": "d5ed53d3",
   "metadata": {
    "execution": {
     "iopub.execute_input": "2024-03-03T15:48:00.664402Z",
     "iopub.status.busy": "2024-03-03T15:48:00.663172Z",
     "iopub.status.idle": "2024-03-03T15:48:00.935114Z",
     "shell.execute_reply": "2024-03-03T15:48:00.934179Z"
    },
    "papermill": {
     "duration": 0.283442,
     "end_time": "2024-03-03T15:48:00.936949",
     "exception": false,
     "start_time": "2024-03-03T15:48:00.653507",
     "status": "completed"
    },
    "tags": []
   },
   "outputs": [
    {
     "data": {
      "image/png": "[encoded data removed]",
      "text/plain": [
       "<Figure size 1000x600 with 1 Axes>"
      ]
     },
     "metadata": {},
     "output_type": "display_data"
    }
   ],
   "source": [
    "plt.figure(figsize=(10, 6))\n",
    "plt.bar(range(len(average_salary)), average_salary['salary_in_usd'], color='skyblue')\n",
    "plt.xticks(range(len(average_salary)), average_salary['experience_level'] + \" - \" + average_salary['employment_type'], rotation=45, ha=\"right\")\n",
    "plt.title('Average Salary by Experience Level and Employment Type')\n",
    "plt.xlabel('Experience Level - Employment Type')\n",
    "plt.ylabel('Average Salary (USD)')\n",
    "plt.show()"
   ]
  },
  {
   "cell_type": "code",
   "execution_count": 20,
   "id": "ec79ea6a",
   "metadata": {
    "execution": {
     "iopub.execute_input": "2024-03-03T15:48:00.958180Z",
     "iopub.status.busy": "2024-03-03T15:48:00.957827Z",
     "iopub.status.idle": "2024-03-03T15:48:01.073656Z",
     "shell.execute_reply": "2024-03-03T15:48:01.072603Z"
    },
    "papermill": {
     "duration": 0.129148,
     "end_time": "2024-03-03T15:48:01.075882",
     "exception": false,
     "start_time": "2024-03-03T15:48:00.946734",
     "status": "completed"
    },
    "tags": []
   },
   "outputs": [
    {
     "data": {
      "image/png": "[encoded data removed]",
      "text/plain": [
       "<Figure size 500x800 with 1 Axes>"
      ]
     },
     "metadata": {},
     "output_type": "display_data"
    }
   ],
   "source": [
    "work_year_counts = df['work_year'].value_counts()\n",
    "plt.figure(figsize=(5, 8))\n",
    "plt.pie(work_year_counts, labels=work_year_counts.index, autopct='%1.1f%%', startangle=140)\n",
    "plt.title('Work Year Distribution')\n",
    "plt.show()"
   ]
  },
  {
   "cell_type": "code",
   "execution_count": 21,
   "id": "d4ad1861",
   "metadata": {
    "execution": {
     "iopub.execute_input": "2024-03-03T15:48:01.103901Z",
     "iopub.status.busy": "2024-03-03T15:48:01.102830Z",
     "iopub.status.idle": "2024-03-03T15:48:01.315977Z",
     "shell.execute_reply": "2024-03-03T15:48:01.315062Z"
    },
    "papermill": {
     "duration": 0.229529,
     "end_time": "2024-03-03T15:48:01.318441",
     "exception": false,
     "start_time": "2024-03-03T15:48:01.088912",
     "status": "completed"
    },
    "tags": []
   },
   "outputs": [
    {
     "data": {
      "image/png": "[encoded data removed]",
      "text/plain": [
       "<Figure size 1200x600 with 1 Axes>"
      ]
     },
     "metadata": {},
     "output_type": "display_data"
    }
   ],
   "source": [
    "avg_salary_by_size = df.groupby(\"company_size\")[\"salary_in_usd\"].mean().reset_index()\n",
    "\n",
    "# Create a grouped bar plot\n",
    "plt.figure(figsize=(12, 6))\n",
    "plt.bar(avg_salary_by_size.index, avg_salary_by_size['salary_in_usd'], color='skyblue', label='Average Salary')\n",
    "plt.xlabel('Company Size')\n",
    "plt.ylabel('Average Salary (USD)')\n",
    "plt.title('Average Salary by Company Size')\n",
    "plt.xticks(avg_salary_by_size.index, avg_salary_by_size['company_size'], rotation=45, ha=\"right\")\n",
    "plt.legend()\n",
    "plt.show()"
   ]
  },
  {
   "cell_type": "code",
   "execution_count": 22,
   "id": "531cc31a",
   "metadata": {
    "execution": {
     "iopub.execute_input": "2024-03-03T15:48:01.340740Z",
     "iopub.status.busy": "2024-03-03T15:48:01.340425Z",
     "iopub.status.idle": "2024-03-03T15:48:01.348577Z",
     "shell.execute_reply": "2024-03-03T15:48:01.347549Z"
    },
    "papermill": {
     "duration": 0.021469,
     "end_time": "2024-03-03T15:48:01.350368",
     "exception": false,
     "start_time": "2024-03-03T15:48:01.328899",
     "status": "completed"
    },
    "tags": []
   },
   "outputs": [
    {
     "data": {
      "text/html": [
       "<div class='tableauPlaceholder' id='viz1709479558704' style='position: relative'>\n",
       "    <noscript>\n",
       "        <a href='#'>\n",
       "            <img alt='Dashboard 3 ' src='https:&#47;&#47;public.tableau.com&#47;static&#47;images&#47;Da&#47;DataScienceSalaryAnalysis_17094778165060&#47;Dashboard3&#47;1_rss.png' style='border: none' />\n",
       "        </a>\n",
       "    </noscript>\n",
       "    <object class='tableauViz' style='display:none;'>\n",
       "        <param name='host_url' value='https%3A%2F%2Fpublic.tableau.com%2F' />\n",
       "        <param name='embed_code_version' value='3' />\n",
       "        <param name='path' value='views&#47;DataScienceSalaryAnalysis_17094778165060&#47;Dashboard3?:language=en-GB&amp;:embed=true&amp;:sid=' />\n",
       "        <param name='toolbar' value='yes' />\n",
       "        <param name='static_image' value='https:&#47;&#47;public.tableau.com&#47;static&#47;images&#47;Da&#47;DataScienceSalaryAnalysis_17094778165060&#47;Dashboard3&#47;1.png' />\n",
       "        <param name='animate_transition' value='yes' />\n",
       "        <param name='display_static_image' value='yes' />\n",
       "        <param name='display_spinner' value='yes' />\n",
       "        <param name='display_overlay' value='yes' />\n",
       "        <param name='display_count' value='yes' />\n",
       "        <param name='language' value='en-GB' />\n",
       "    </object>\n",
       "</div>\n",
       "<script type='text/javascript'>\n",
       "    var divElement = document.getElementById('viz1709479558704');\n",
       "    var vizElement = divElement.getElementsByTagName('object')[0];\n",
       "    if (divElement.offsetWidth > 800) {\n",
       "        vizElement.style.width = '1200px';\n",
       "        vizElement.style.minHeight = '587px';\n",
       "        vizElement.style.maxHeight = '887px';\n",
       "        vizElement.style.height = (divElement.offsetWidth * 0.75) + 'px';\n",
       "    } else if (divElement.offsetWidth > 500) {\n",
       "        vizElement.style.width = '1200px';\n",
       "        vizElement.style.minHeight = '587px';\n",
       "        vizElement.style.maxHeight = '887px';\n",
       "        vizElement.style.height = (divElement.offsetWidth * 0.75) + 'px';\n",
       "    } else {\n",
       "        vizElement.style.width = '100%';\n",
       "        vizElement.style.height = '977px';\n",
       "    }\n",
       "    var scriptElement = document.createElement('script');\n",
       "    scriptElement.src = 'https://public.tableau.com/javascripts/api/viz_v1.js';\n",
       "    vizElement.parentNode.insertBefore(scriptElement, vizElement);\n",
       "</script>\n"
      ],
      "text/plain": [
       "<IPython.core.display.HTML object>"
      ]
     },
     "metadata": {},
     "output_type": "display_data"
    }
   ],
   "source": [
    "%%HTML\n",
    "<div class='tableauPlaceholder' id='viz1709479558704' style='position: relative'>\n",
    "    <noscript>\n",
    "        <a href='#'>\n",
    "            <img alt='Dashboard 3 ' src='https:&#47;&#47;public.tableau.com&#47;static&#47;images&#47;Da&#47;DataScienceSalaryAnalysis_17094778165060&#47;Dashboard3&#47;1_rss.png' style='border: none' />\n",
    "        </a>\n",
    "    </noscript>\n",
    "    <object class='tableauViz' style='display:none;'>\n",
    "        <param name='host_url' value='https%3A%2F%2Fpublic.tableau.com%2F' />\n",
    "        <param name='embed_code_version' value='3' />\n",
    "        <param name='path' value='views&#47;DataScienceSalaryAnalysis_17094778165060&#47;Dashboard3?:language=en-GB&amp;:embed=true&amp;:sid=' />\n",
    "        <param name='toolbar' value='yes' />\n",
    "        <param name='static_image' value='https:&#47;&#47;public.tableau.com&#47;static&#47;images&#47;Da&#47;DataScienceSalaryAnalysis_17094778165060&#47;Dashboard3&#47;1.png' />\n",
    "        <param name='animate_transition' value='yes' />\n",
    "        <param name='display_static_image' value='yes' />\n",
    "        <param name='display_spinner' value='yes' />\n",
    "        <param name='display_overlay' value='yes' />\n",
    "        <param name='display_count' value='yes' />\n",
    "        <param name='language' value='en-GB' />\n",
    "    </object>\n",
    "</div>\n",
    "<script type='text/javascript'>\n",
    "    var divElement = document.getElementById('viz1709479558704');\n",
    "    var vizElement = divElement.getElementsByTagName('object')[0];\n",
    "    if (divElement.offsetWidth > 800) {\n",
    "        vizElement.style.width = '1200px';\n",
    "        vizElement.style.minHeight = '587px';\n",
    "        vizElement.style.maxHeight = '887px';\n",
    "        vizElement.style.height = (divElement.offsetWidth * 0.75) + 'px';\n",
    "    } else if (divElement.offsetWidth > 500) {\n",
    "        vizElement.style.width = '1200px';\n",
    "        vizElement.style.minHeight = '587px';\n",
    "        vizElement.style.maxHeight = '887px';\n",
    "        vizElement.style.height = (divElement.offsetWidth * 0.75) + 'px';\n",
    "    } else {\n",
    "        vizElement.style.width = '100%';\n",
    "        vizElement.style.height = '977px';\n",
    "    }\n",
    "    var scriptElement = document.createElement('script');\n",
    "    scriptElement.src = 'https://public.tableau.com/javascripts/api/viz_v1.js';\n",
    "    vizElement.parentNode.insertBefore(scriptElement, vizElement);\n",
    "</script>\n"
   ]
  },
  {
   "cell_type": "code",
   "execution_count": null,
   "id": "0bd7dbe1",
   "metadata": {
    "papermill": {
     "duration": 0.011272,
     "end_time": "2024-03-03T15:48:01.372187",
     "exception": false,
     "start_time": "2024-03-03T15:48:01.360915",
     "status": "completed"
    },
    "tags": []
   },
   "outputs": [],
   "source": []
  }
 ],
 "metadata": {
  "kaggle": {
   "accelerator": "none",
   "dataSources": [
    {
     "datasetId": 3601047,
     "sourceId": 6264882,
     "sourceType": "datasetVersion"
    }
   ],
   "dockerImageVersionId": 30664,
   "isGpuEnabled": false,
   "isInternetEnabled": false,
   "language": "python",
   "sourceType": "notebook"
  },
  "kernelspec": {
   "display_name": "Python 3",
   "language": "python",
   "name": "python3"
  },
  "language_info": {
   "codemirror_mode": {
    "name": "ipython",
    "version": 3
   },
   "file_extension": ".py",
   "mimetype": "text/x-python",
   "name": "python",
   "nbconvert_exporter": "python",
   "pygments_lexer": "ipython3",
   "version": "3.10.13"
  },
  "papermill": {
   "default_parameters": {},
   "duration": 6.943437,
   "end_time": "2024-03-03T15:48:01.902505",
   "environment_variables": {},
   "exception": null,
   "input_path": "__notebook__.ipynb",
   "output_path": "__notebook__.ipynb",
   "parameters": {},
   "start_time": "2024-03-03T15:47:54.959068",
   "version": "2.5.0"
  }
 },
 "nbformat": 4,
 "nbformat_minor": 5
}
